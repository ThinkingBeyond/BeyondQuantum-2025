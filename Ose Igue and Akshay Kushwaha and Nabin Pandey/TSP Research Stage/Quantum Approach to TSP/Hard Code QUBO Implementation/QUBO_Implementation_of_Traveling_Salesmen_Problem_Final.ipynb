{
  "nbformat": 4,
  "nbformat_minor": 0,
  "metadata": {
    "colab": {
      "provenance": []
    },
    "kernelspec": {
      "name": "python3",
      "display_name": "Python 3"
    },
    "language_info": {
      "name": "python"
    }
  },
  "cells": [
    {
      "cell_type": "code",
      "execution_count": null,
      "metadata": {
        "id": "BH9HDJkmTI2h"
      },
      "outputs": [],
      "source": [
        "import numpy as np\n",
        "from sympy import MatrixSymbol, Matrix, poly\n",
        "# x^T Q x +"
      ]
    },
    {
      "cell_type": "code",
      "source": [
        "# Example Formulation of TSP tour length and setting up TSP function by testing random permutations as solutions. Extremely inefficient.\n",
        "n = 4\n",
        "distanceArr = [[0, 10, 50, 45], [10, 0, 25, 25], [50, 25, 0, 40], [45, 25, 40, 0]]\n",
        "\n",
        "def traveling_salesmen(x, dist):\n",
        "    return sum(dist[x[i]][x[(i+1) % n]] for i in range(n))\n",
        "\n",
        "x = [0, 2, 3, 1]\n",
        "\n",
        "lengthOfRoute = traveling_salesmen(x, distanceArr)\n",
        "print(\"Given the arrangement of cities, return the route distance of all of those cities.:\", lengthOfRoute)"
      ],
      "metadata": {
        "colab": {
          "base_uri": "https://localhost:8080/"
        },
        "id": "_1MWtbSVf7Zx",
        "outputId": "557b0a85-e7b1-4ff9-9a61-725a9c49415a"
      },
      "execution_count": null,
      "outputs": [
        {
          "output_type": "stream",
          "name": "stdout",
          "text": [
            "Given the arrangement of cities, return the route distance of all of those cities.: 125\n"
          ]
        }
      ]
    },
    {
      "cell_type": "code",
      "source": [
        "# Adjacency List storage between Nodes.\n",
        "adjList = np.array([\n",
        "    [0, 10, 50, 45],\n",
        "    [10, 0, 25, 25],\n",
        "    [50, 25, 0, 40],\n",
        "    [45, 25, 40, 0]\n",
        "])"
      ],
      "metadata": {
        "id": "L6deGP7Ng8js"
      },
      "execution_count": null,
      "outputs": []
    },
    {
      "cell_type": "code",
      "source": [
        "# Edge Collector. Returns aall of the edges from the Adjacency List and their weights\n",
        "edges = []\n",
        "n = adjList.shape[0]\n",
        "for i in range(n):\n",
        "    for j in range(i + 1, n):\n",
        "        edges.append((i, j, adjList[i, j]))\n",
        "\n",
        "# Sort edges by Weights.\n",
        "sorted_edges = sorted(edges, key=lambda x: x[2])\n",
        "\n",
        "# Sort edges by Weight in decreasing order.\n",
        "sorted_edges_desc = sorted(edges, key=lambda x: x[2], reverse=True)\n",
        "\n",
        "\n",
        "# In order to figure out constraints A, B, C we must calculate the n largest edges minus the n smallest edges + 1 to return those constraints values.\n",
        "# This constraints values guarantee that any working solution will have an lower objective function than any faulty solutions.\n",
        "\n",
        "# Selecting the smallest edges for the LB (lower bound). Four edges.\n",
        "LB_edges = sorted_edges[:4]\n",
        "\n",
        "# The Lower Bound is equal to all of these edges added up.\n",
        "LB = sum(edge[2] for edge in LB_edges)\n",
        "\n",
        "# Selecting the smallest edges for the UB (Upper bound). Four edges.\n",
        "UB_edges = sorted_edges_desc[:4]\n",
        "\n",
        "# The Upper Bound is equal to all of these edges added up.\n",
        "UB = sum(edge[2] for edge in UB_edges)\n",
        "\n",
        "# Display the results\n",
        "print(\"Lower Bound Edges (LB):\", LB_edges)\n",
        "print(\"Lower Bound (LB):\", LB)\n",
        "\n",
        "# Display the results\n",
        "print(\"Upper Bound Edges (UB):\", UB_edges)\n",
        "print(\"Upper Bound (UB):\", UB)\n",
        "print(UB - LB + 1)\n",
        "\n",
        "# A, B, C Solution\n",
        "A = B = C = UB - LB + 1"
      ],
      "metadata": {
        "colab": {
          "base_uri": "https://localhost:8080/"
        },
        "id": "P1WArBOuhyit",
        "outputId": "3f2faecc-64c7-45a5-f2f7-432870936fe3"
      },
      "execution_count": null,
      "outputs": [
        {
          "output_type": "stream",
          "name": "stdout",
          "text": [
            "Lower Bound Edges (LB): [(0, 1, np.int64(10)), (1, 2, np.int64(25)), (1, 3, np.int64(25)), (2, 3, np.int64(40))]\n",
            "Lower Bound (LB): 100\n",
            "Upper Bound Edges (UB): [(0, 2, np.int64(50)), (0, 3, np.int64(45)), (2, 3, np.int64(40)), (1, 2, np.int64(25))]\n",
            "Upper Bound (UB): 160\n",
            "61\n"
          ]
        }
      ]
    },
    {
      "cell_type": "code",
      "source": [
        "# All of these constraints operations must be set equal to 0 therefore the minus 1.\n",
        "#https://github.com/amoraglio/quantum-optimization-tutorial/blob/main/QUBO%20Formulation%20of%20Travelling%20Salesman%20Problem.ipynb\n",
        "# Created custom sum of edges function for any adjList array.\n",
        "\n",
        "def objective_function(x, y, dist):\n",
        "    return \\\n",
        "    \\\n",
        "    sum(dist[i][j] * x[i, j] for i in range(len(dist)) for j in range(len(dist)) if i != j) + \\\n",
        "    \\\n",
        "    A * (x[1,0] + x[2,0] + x[3,0] - 1)**2 + \\\n",
        "    A * (x[0,1] + x[2,1] + x[3,1] - 1)**2 + \\\n",
        "    A * (x[0,2] + x[1,2] + x[3,2] - 1)**2 + \\\n",
        "    A * (x[0,3] + x[1,3] + x[2,3] - 1)**2 + \\\n",
        "    \\\n",
        "    B * (x[0,1] + x[0,2] + x[0,3] - 1)**2 + \\\n",
        "    B * (x[1,0] + x[1,2] + x[1,3] - 1)**2 + \\\n",
        "    B * (x[2,0] + x[2,1] + x[2,3] - 1)**2 + \\\n",
        "    B * (x[3,0] + x[3,1] + x[3,2] - 1)**2 + \\\n",
        "    \\\n",
        "    C * x[1,1]**2 + \\\n",
        "    C * x[2,2]**2 + \\\n",
        "    C * x[3,3]**2 + \\\n",
        "    C * (x[1,1] + x[1,2] + x[2,1] + x[2,2] + y[0] - 1)**2 + \\\n",
        "    C * (x[1,1] + x[1,3] + x[3,1] + x[3,3] + y[1] - 1)**2 + \\\n",
        "    C * (x[2,2] + x[2,3] + x[3,2] + x[3,3] + y[2] - 1)**2 + \\\n",
        "    C * (x[1,1] + x[1,2] + x[1,3] + x[2,1] + x[2,2] + x[2,3] + x[3,1] + x[3,2] + x[3,3] + y[3] + y[4] - 2)**2\n",
        "\n",
        "\n",
        "# Create a random Binary Array with row length n and column length n.\n",
        "x = np.random.choice([0, 1], size=(n, n))\n",
        "\n",
        "# Create a random Binary Array of possible choices to choose.\n",
        "y = np.random.choice([0, 1], size=(5))\n",
        "\n",
        "# Call the Objective function.\n",
        "x, y, objective_function(x, y, adjList)"
      ],
      "metadata": {
        "colab": {
          "base_uri": "https://localhost:8080/"
        },
        "id": "rmTiuwrJjk9w",
        "outputId": "be9d7ddc-ccf1-4474-c1c6-ae3a2a075924"
      },
      "execution_count": null,
      "outputs": [
        {
          "output_type": "execute_result",
          "data": {
            "text/plain": [
              "(array([[0, 0, 0, 1],\n",
              "        [0, 0, 0, 0],\n",
              "        [0, 0, 1, 1],\n",
              "        [1, 1, 1, 1]]),\n",
              " array([1, 1, 1, 1, 0]),\n",
              " np.int64(2940))"
            ]
          },
          "metadata": {},
          "execution_count": 177
        }
      ]
    },
    {
      "cell_type": "code",
      "source": [
        "X = MatrixSymbol('X', n, n)\n",
        "Y = MatrixSymbol('Y', 1, 5)\n",
        "sym_objective_function = poly(objective_function(X, Y, adjList))\n",
        "sym_objective_function"
      ],
      "metadata": {
        "colab": {
          "base_uri": "https://localhost:8080/",
          "height": 58
        },
        "id": "FXaYFqaEkLaD",
        "outputId": "64f22910-52e9-4fc9-bc28-164f3ee8d962"
      },
      "execution_count": null,
      "outputs": [
        {
          "output_type": "execute_result",
          "data": {
            "text/plain": [
              "Poly(122*X[0, 1]**2 + 122*X[0, 1]*X[0, 2] + 122*X[0, 1]*X[0, 3] + 122*X[0, 1]*X[2, 1] + 122*X[0, 1]*X[3, 1] - 234*X[0, 1] + 122*X[0, 2]**2 + 122*X[0, 2]*X[0, 3] + 122*X[0, 2]*X[1, 2] + 122*X[0, 2]*X[3, 2] - 194*X[0, 2] + 122*X[0, 3]**2 + 122*X[0, 3]*X[1, 3] + 122*X[0, 3]*X[2, 3] - 199*X[0, 3] + 122*X[1, 0]**2 + 122*X[1, 0]*X[1, 2] + 122*X[1, 0]*X[1, 3] + 122*X[1, 0]*X[2, 0] + 122*X[1, 0]*X[3, 0] - 234*X[1, 0] + 244*X[1, 1]**2 + 244*X[1, 1]*X[1, 2] + 244*X[1, 1]*X[1, 3] + 244*X[1, 1]*X[2, 1] + 244*X[1, 1]*X[2, 2] + 122*X[1, 1]*X[2, 3] + 244*X[1, 1]*X[3, 1] + 122*X[1, 1]*X[3, 2] + 244*X[1, 1]*X[3, 3] + 122*X[1, 1]*Y[0, 0] + 122*X[1, 1]*Y[0, 1] + 122*X[1, 1]*Y[0, 3] + 122*X[1, 1]*Y[0, 4] - 488*X[1, 1] + 244*X[1, 2]**2 + 244*X[1, 2]*X[1, 3] + 244*X[1, 2]*X[2, 1] + 244*X[1, 2]*X[2, 2] + 122*X[1, 2]*X[2, 3] + 122*X[1, 2]*X[3, 1] + 244*X[1, 2]*X[3, 2] + 122*X[1, 2]*X[3, 3] + 122*X[1, 2]*Y[0, 0] + 122*X[1, 2]*Y[0, 3] + 122*X[1, 2]*Y[0, 4] - 585*X[1, 2] + 244*X[1, 3]**2 + 122*X[1, 3]*X[2, 1] + 122*X[1, 3]*X[2, 2] + 244*X[1, 3]*X[2, 3] + 244*X[1, 3]*X[3, 1] + 122*X[1, 3]*X[3, 2] + 244*X[1, 3]*X[3, 3] + 122*X[1, 3]*Y[0, 1] + 122*X[1, 3]*Y[0, 3] + 122*X[1, 3]*Y[0, 4] - 585*X[1, 3] + 122*X[2, 0]**2 + 122*X[2, 0]*X[2, 1] + 122*X[2, 0]*X[2, 3] + 122*X[2, 0]*X[3, 0] - 194*X[2, 0] + 244*X[2, 1]**2 + 244*X[2, 1]*X[2, 2] + 244*X[2, 1]*X[2, 3] + 244*X[2, 1]*X[3, 1] + 122*X[2, 1]*X[3, 2] + 122*X[2, 1]*X[3, 3] + 122*X[2, 1]*Y[0, 0] + 122*X[2, 1]*Y[0, 3] + 122*X[2, 1]*Y[0, 4] - 585*X[2, 1] + 244*X[2, 2]**2 + 244*X[2, 2]*X[2, 3] + 122*X[2, 2]*X[3, 1] + 244*X[2, 2]*X[3, 2] + 244*X[2, 2]*X[3, 3] + 122*X[2, 2]*Y[0, 0] + 122*X[2, 2]*Y[0, 2] + 122*X[2, 2]*Y[0, 3] + 122*X[2, 2]*Y[0, 4] - 488*X[2, 2] + 244*X[2, 3]**2 + 122*X[2, 3]*X[3, 1] + 244*X[2, 3]*X[3, 2] + 244*X[2, 3]*X[3, 3] + 122*X[2, 3]*Y[0, 2] + 122*X[2, 3]*Y[0, 3] + 122*X[2, 3]*Y[0, 4] - 570*X[2, 3] + 122*X[3, 0]**2 + 122*X[3, 0]*X[3, 1] + 122*X[3, 0]*X[3, 2] - 199*X[3, 0] + 244*X[3, 1]**2 + 244*X[3, 1]*X[3, 2] + 244*X[3, 1]*X[3, 3] + 122*X[3, 1]*Y[0, 1] + 122*X[3, 1]*Y[0, 3] + 122*X[3, 1]*Y[0, 4] - 585*X[3, 1] + 244*X[3, 2]**2 + 244*X[3, 2]*X[3, 3] + 122*X[3, 2]*Y[0, 2] + 122*X[3, 2]*Y[0, 3] + 122*X[3, 2]*Y[0, 4] - 570*X[3, 2] + 244*X[3, 3]**2 + 122*X[3, 3]*Y[0, 1] + 122*X[3, 3]*Y[0, 2] + 122*X[3, 3]*Y[0, 3] + 122*X[3, 3]*Y[0, 4] - 488*X[3, 3] + 61*Y[0, 0]**2 - 122*Y[0, 0] + 61*Y[0, 1]**2 - 122*Y[0, 1] + 61*Y[0, 2]**2 - 122*Y[0, 2] + 61*Y[0, 3]**2 + 122*Y[0, 3]*Y[0, 4] - 244*Y[0, 3] + 61*Y[0, 4]**2 - 244*Y[0, 4] + 915, X[0, 1], X[0, 2], X[0, 3], X[1, 0], X[1, 1], X[1, 2], X[1, 3], X[2, 0], X[2, 1], X[2, 2], X[2, 3], X[3, 0], X[3, 1], X[3, 2], X[3, 3], Y[0, 0], Y[0, 1], Y[0, 2], Y[0, 3], Y[0, 4], domain='ZZ')"
            ],
            "text/latex": "$\\displaystyle \\operatorname{Poly}{\\left( 122 {X}_{0,1}^{2} + 122 {X}_{0,1}{X}_{0,2} + 122 {X}_{0,1}{X}_{0,3} + 122 {X}_{0,1}{X}_{2,1} + 122 {X}_{0,1}{X}_{3,1} - 234 {X}_{0,1} + 122 {X}_{0,2}^{2} + 122 {X}_{0,2}{X}_{0,3} + 122 {X}_{0,2}{X}_{1,2} + 122 {X}_{0,2}{X}_{3,2} - 194 {X}_{0,2} + 122 {X}_{0,3}^{2} + 122 {X}_{0,3}{X}_{1,3} + 122 {X}_{0,3}{X}_{2,3} - 199 {X}_{0,3} + 122 {X}_{1,0}^{2} + 122 {X}_{1,0}{X}_{1,2} + 122 {X}_{1,0}{X}_{1,3} + 122 {X}_{1,0}{X}_{2,0} + 122 {X}_{1,0}{X}_{3,0} - 234 {X}_{1,0} + 244 {X}_{1,1}^{2} + 244 {X}_{1,1}{X}_{1,2} + 244 {X}_{1,1}{X}_{1,3} + 244 {X}_{1,1}{X}_{2,1} + 244 {X}_{1,1}{X}_{2,2} + 122 {X}_{1,1}{X}_{2,3} + 244 {X}_{1,1}{X}_{3,1} + 122 {X}_{1,1}{X}_{3,2} + 244 {X}_{1,1}{X}_{3,3} + 122 {X}_{1,1}{Y}_{0,0} + 122 {X}_{1,1}{Y}_{0,1} + 122 {X}_{1,1}{Y}_{0,3} + 122 {X}_{1,1}{Y}_{0,4} - 488 {X}_{1,1} + 244 {X}_{1,2}^{2} + 244 {X}_{1,2}{X}_{1,3} + 244 {X}_{1,2}{X}_{2,1} + 244 {X}_{1,2}{X}_{2,2} + 122 {X}_{1,2}{X}_{2,3} + 122 {X}_{1,2}{X}_{3,1} + 244 {X}_{1,2}{X}_{3,2} + 122 {X}_{1,2}{X}_{3,3} + 122 {X}_{1,2}{Y}_{0,0} + 122 {X}_{1,2}{Y}_{0,3} + 122 {X}_{1,2}{Y}_{0,4} - 585 {X}_{1,2} + 244 {X}_{1,3}^{2} + 122 {X}_{1,3}{X}_{2,1} + 122 {X}_{1,3}{X}_{2,2} + 244 {X}_{1,3}{X}_{2,3} + 244 {X}_{1,3}{X}_{3,1} + 122 {X}_{1,3}{X}_{3,2} + 244 {X}_{1,3}{X}_{3,3} + 122 {X}_{1,3}{Y}_{0,1} + 122 {X}_{1,3}{Y}_{0,3} + 122 {X}_{1,3}{Y}_{0,4} - 585 {X}_{1,3} + 122 {X}_{2,0}^{2} + 122 {X}_{2,0}{X}_{2,1} + 122 {X}_{2,0}{X}_{2,3} + 122 {X}_{2,0}{X}_{3,0} - 194 {X}_{2,0} + 244 {X}_{2,1}^{2} + 244 {X}_{2,1}{X}_{2,2} + 244 {X}_{2,1}{X}_{2,3} + 244 {X}_{2,1}{X}_{3,1} + 122 {X}_{2,1}{X}_{3,2} + 122 {X}_{2,1}{X}_{3,3} + 122 {X}_{2,1}{Y}_{0,0} + 122 {X}_{2,1}{Y}_{0,3} + 122 {X}_{2,1}{Y}_{0,4} - 585 {X}_{2,1} + 244 {X}_{2,2}^{2} + 244 {X}_{2,2}{X}_{2,3} + 122 {X}_{2,2}{X}_{3,1} + 244 {X}_{2,2}{X}_{3,2} + 244 {X}_{2,2}{X}_{3,3} + 122 {X}_{2,2}{Y}_{0,0} + 122 {X}_{2,2}{Y}_{0,2} + 122 {X}_{2,2}{Y}_{0,3} + 122 {X}_{2,2}{Y}_{0,4} - 488 {X}_{2,2} + 244 {X}_{2,3}^{2} + 122 {X}_{2,3}{X}_{3,1} + 244 {X}_{2,3}{X}_{3,2} + 244 {X}_{2,3}{X}_{3,3} + 122 {X}_{2,3}{Y}_{0,2} + 122 {X}_{2,3}{Y}_{0,3} + 122 {X}_{2,3}{Y}_{0,4} - 570 {X}_{2,3} + 122 {X}_{3,0}^{2} + 122 {X}_{3,0}{X}_{3,1} + 122 {X}_{3,0}{X}_{3,2} - 199 {X}_{3,0} + 244 {X}_{3,1}^{2} + 244 {X}_{3,1}{X}_{3,2} + 244 {X}_{3,1}{X}_{3,3} + 122 {X}_{3,1}{Y}_{0,1} + 122 {X}_{3,1}{Y}_{0,3} + 122 {X}_{3,1}{Y}_{0,4} - 585 {X}_{3,1} + 244 {X}_{3,2}^{2} + 244 {X}_{3,2}{X}_{3,3} + 122 {X}_{3,2}{Y}_{0,2} + 122 {X}_{3,2}{Y}_{0,3} + 122 {X}_{3,2}{Y}_{0,4} - 570 {X}_{3,2} + 244 {X}_{3,3}^{2} + 122 {X}_{3,3}{Y}_{0,1} + 122 {X}_{3,3}{Y}_{0,2} + 122 {X}_{3,3}{Y}_{0,3} + 122 {X}_{3,3}{Y}_{0,4} - 488 {X}_{3,3} + 61 {Y}_{0,0}^{2} - 122 {Y}_{0,0} + 61 {Y}_{0,1}^{2} - 122 {Y}_{0,1} + 61 {Y}_{0,2}^{2} - 122 {Y}_{0,2} + 61 {Y}_{0,3}^{2} + 122 {Y}_{0,3}{Y}_{0,4} - 244 {Y}_{0,3} + 61 {Y}_{0,4}^{2} - 244 {Y}_{0,4} + 915, {X}_{0,1}, {X}_{0,2}, {X}_{0,3}, {X}_{1,0}, {X}_{1,1}, {X}_{1,2}, {X}_{1,3}, {X}_{2,0}, {X}_{2,1}, {X}_{2,2}, {X}_{2,3}, {X}_{3,0}, {X}_{3,1}, {X}_{3,2}, {X}_{3,3}, {Y}_{0,0}, {Y}_{0,1}, {Y}_{0,2}, {Y}_{0,3}, {Y}_{0,4}, domain=\\mathbb{Z} \\right)}$"
          },
          "metadata": {},
          "execution_count": 178
        }
      ]
    }
  ]
}