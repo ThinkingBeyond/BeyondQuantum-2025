{
  "nbformat": 4,
  "nbformat_minor": 0,
  "metadata": {
    "colab": {
      "provenance": [],
      "gpuType": "T4"
    },
    "kernelspec": {
      "name": "python3",
      "display_name": "Python 3"
    },
    "language_info": {
      "name": "python"
    },
    "accelerator": "GPU"
  },
  "cells": [
    {
      "cell_type": "code",
      "execution_count": 1,
      "metadata": {
        "colab": {
          "base_uri": "https://localhost:8080/"
        },
        "id": "kSdvQoR7jQbI",
        "outputId": "8c4d2f9c-3396-42ac-af3f-c2a0a51d97f1"
      },
      "outputs": [
        {
          "output_type": "stream",
          "name": "stdout",
          "text": [
            "Collecting qiskit\n",
            "  Downloading qiskit-2.0.2-cp39-abi3-manylinux_2_17_x86_64.manylinux2014_x86_64.whl.metadata (12 kB)\n",
            "Collecting qiskit-ibm-runtime\n",
            "  Downloading qiskit_ibm_runtime-0.40.0-py3-none-any.whl.metadata (21 kB)\n",
            "Collecting rustworkx>=0.15.0 (from qiskit)\n",
            "  Downloading rustworkx-0.16.0-cp39-abi3-manylinux_2_17_x86_64.manylinux2014_x86_64.whl.metadata (10 kB)\n",
            "Requirement already satisfied: numpy<3,>=1.17 in /usr/local/lib/python3.11/dist-packages (from qiskit) (2.0.2)\n",
            "Requirement already satisfied: scipy>=1.5 in /usr/local/lib/python3.11/dist-packages (from qiskit) (1.15.3)\n",
            "Requirement already satisfied: sympy>=1.3 in /usr/local/lib/python3.11/dist-packages (from qiskit) (1.13.1)\n",
            "Requirement already satisfied: dill>=0.3 in /usr/local/lib/python3.11/dist-packages (from qiskit) (0.3.7)\n",
            "Requirement already satisfied: python-dateutil>=2.8.0 in /usr/local/lib/python3.11/dist-packages (from qiskit) (2.9.0.post0)\n",
            "Collecting stevedore>=3.0.0 (from qiskit)\n",
            "  Downloading stevedore-5.4.1-py3-none-any.whl.metadata (2.3 kB)\n",
            "Requirement already satisfied: typing-extensions in /usr/local/lib/python3.11/dist-packages (from qiskit) (4.13.2)\n",
            "Collecting symengine<0.14,>=0.11 (from qiskit)\n",
            "  Downloading symengine-0.13.0-cp311-cp311-manylinux_2_17_x86_64.manylinux2014_x86_64.whl.metadata (1.2 kB)\n",
            "Requirement already satisfied: requests>=2.19 in /usr/local/lib/python3.11/dist-packages (from qiskit-ibm-runtime) (2.32.3)\n",
            "Collecting requests-ntlm>=1.1.0 (from qiskit-ibm-runtime)\n",
            "  Downloading requests_ntlm-1.3.0-py3-none-any.whl.metadata (2.4 kB)\n",
            "Requirement already satisfied: urllib3>=1.21.1 in /usr/local/lib/python3.11/dist-packages (from qiskit-ibm-runtime) (2.4.0)\n",
            "Collecting ibm-platform-services>=0.22.6 (from qiskit-ibm-runtime)\n",
            "  Downloading ibm_platform_services-0.66.0-py3-none-any.whl.metadata (9.0 kB)\n",
            "Requirement already satisfied: pydantic>=2.5.0 in /usr/local/lib/python3.11/dist-packages (from qiskit-ibm-runtime) (2.11.4)\n",
            "Requirement already satisfied: packaging in /usr/local/lib/python3.11/dist-packages (from qiskit-ibm-runtime) (24.2)\n",
            "Collecting ibm_cloud_sdk_core<4.0.0,>=3.22.1 (from ibm-platform-services>=0.22.6->qiskit-ibm-runtime)\n",
            "  Downloading ibm_cloud_sdk_core-3.24.0-py3-none-any.whl.metadata (8.7 kB)\n",
            "Requirement already satisfied: annotated-types>=0.6.0 in /usr/local/lib/python3.11/dist-packages (from pydantic>=2.5.0->qiskit-ibm-runtime) (0.7.0)\n",
            "Requirement already satisfied: pydantic-core==2.33.2 in /usr/local/lib/python3.11/dist-packages (from pydantic>=2.5.0->qiskit-ibm-runtime) (2.33.2)\n",
            "Requirement already satisfied: typing-inspection>=0.4.0 in /usr/local/lib/python3.11/dist-packages (from pydantic>=2.5.0->qiskit-ibm-runtime) (0.4.1)\n",
            "Requirement already satisfied: six>=1.5 in /usr/local/lib/python3.11/dist-packages (from python-dateutil>=2.8.0->qiskit) (1.17.0)\n",
            "Requirement already satisfied: charset-normalizer<4,>=2 in /usr/local/lib/python3.11/dist-packages (from requests>=2.19->qiskit-ibm-runtime) (3.4.2)\n",
            "Requirement already satisfied: idna<4,>=2.5 in /usr/local/lib/python3.11/dist-packages (from requests>=2.19->qiskit-ibm-runtime) (3.10)\n",
            "Requirement already satisfied: certifi>=2017.4.17 in /usr/local/lib/python3.11/dist-packages (from requests>=2.19->qiskit-ibm-runtime) (2025.4.26)\n",
            "Requirement already satisfied: cryptography>=1.3 in /usr/local/lib/python3.11/dist-packages (from requests-ntlm>=1.1.0->qiskit-ibm-runtime) (43.0.3)\n",
            "Collecting pyspnego>=0.4.0 (from requests-ntlm>=1.1.0->qiskit-ibm-runtime)\n",
            "  Downloading pyspnego-0.11.2-py3-none-any.whl.metadata (5.4 kB)\n",
            "Collecting pbr>=2.0.0 (from stevedore>=3.0.0->qiskit)\n",
            "  Downloading pbr-6.1.1-py2.py3-none-any.whl.metadata (3.4 kB)\n",
            "Requirement already satisfied: mpmath<1.4,>=1.1.0 in /usr/local/lib/python3.11/dist-packages (from sympy>=1.3->qiskit) (1.3.0)\n",
            "Requirement already satisfied: cffi>=1.12 in /usr/local/lib/python3.11/dist-packages (from cryptography>=1.3->requests-ntlm>=1.1.0->qiskit-ibm-runtime) (1.17.1)\n",
            "Requirement already satisfied: PyJWT<3.0.0,>=2.8.0 in /usr/local/lib/python3.11/dist-packages (from ibm_cloud_sdk_core<4.0.0,>=3.22.1->ibm-platform-services>=0.22.6->qiskit-ibm-runtime) (2.10.1)\n",
            "Requirement already satisfied: setuptools in /usr/local/lib/python3.11/dist-packages (from pbr>=2.0.0->stevedore>=3.0.0->qiskit) (75.2.0)\n",
            "Requirement already satisfied: pycparser in /usr/local/lib/python3.11/dist-packages (from cffi>=1.12->cryptography>=1.3->requests-ntlm>=1.1.0->qiskit-ibm-runtime) (2.22)\n",
            "Downloading qiskit-2.0.2-cp39-abi3-manylinux_2_17_x86_64.manylinux2014_x86_64.whl (6.5 MB)\n",
            "\u001b[2K   \u001b[90m━━━━━━━━━━━━━━━━━━━━━━━━━━━━━━━━━━━━━━━━\u001b[0m \u001b[32m6.5/6.5 MB\u001b[0m \u001b[31m68.4 MB/s\u001b[0m eta \u001b[36m0:00:00\u001b[0m\n",
            "\u001b[?25hDownloading qiskit_ibm_runtime-0.40.0-py3-none-any.whl (3.2 MB)\n",
            "\u001b[2K   \u001b[90m━━━━━━━━━━━━━━━━━━━━━━━━━━━━━━━━━━━━━━━━\u001b[0m \u001b[32m3.2/3.2 MB\u001b[0m \u001b[31m111.6 MB/s\u001b[0m eta \u001b[36m0:00:00\u001b[0m\n",
            "\u001b[?25hDownloading ibm_platform_services-0.66.0-py3-none-any.whl (363 kB)\n",
            "\u001b[2K   \u001b[90m━━━━━━━━━━━━━━━━━━━━━━━━━━━━━━━━━━━━━━━━\u001b[0m \u001b[32m363.9/363.9 kB\u001b[0m \u001b[31m32.0 MB/s\u001b[0m eta \u001b[36m0:00:00\u001b[0m\n",
            "\u001b[?25hDownloading requests_ntlm-1.3.0-py3-none-any.whl (6.6 kB)\n",
            "Downloading rustworkx-0.16.0-cp39-abi3-manylinux_2_17_x86_64.manylinux2014_x86_64.whl (2.1 MB)\n",
            "\u001b[2K   \u001b[90m━━━━━━━━━━━━━━━━━━━━━━━━━━━━━━━━━━━━━━━━\u001b[0m \u001b[32m2.1/2.1 MB\u001b[0m \u001b[31m94.6 MB/s\u001b[0m eta \u001b[36m0:00:00\u001b[0m\n",
            "\u001b[?25hDownloading stevedore-5.4.1-py3-none-any.whl (49 kB)\n",
            "\u001b[2K   \u001b[90m━━━━━━━━━━━━━━━━━━━━━━━━━━━━━━━━━━━━━━━━\u001b[0m \u001b[32m49.5/49.5 kB\u001b[0m \u001b[31m4.9 MB/s\u001b[0m eta \u001b[36m0:00:00\u001b[0m\n",
            "\u001b[?25hDownloading symengine-0.13.0-cp311-cp311-manylinux_2_17_x86_64.manylinux2014_x86_64.whl (49.7 MB)\n",
            "\u001b[2K   \u001b[90m━━━━━━━━━━━━━━━━━━━━━━━━━━━━━━━━━━━━━━━━\u001b[0m \u001b[32m49.7/49.7 MB\u001b[0m \u001b[31m19.1 MB/s\u001b[0m eta \u001b[36m0:00:00\u001b[0m\n",
            "\u001b[?25hDownloading ibm_cloud_sdk_core-3.24.0-py3-none-any.whl (75 kB)\n",
            "\u001b[2K   \u001b[90m━━━━━━━━━━━━━━━━━━━━━━━━━━━━━━━━━━━━━━━━\u001b[0m \u001b[32m75.8/75.8 kB\u001b[0m \u001b[31m7.8 MB/s\u001b[0m eta \u001b[36m0:00:00\u001b[0m\n",
            "\u001b[?25hDownloading pbr-6.1.1-py2.py3-none-any.whl (108 kB)\n",
            "\u001b[2K   \u001b[90m━━━━━━━━━━━━━━━━━━━━━━━━━━━━━━━━━━━━━━━━\u001b[0m \u001b[32m109.0/109.0 kB\u001b[0m \u001b[31m10.4 MB/s\u001b[0m eta \u001b[36m0:00:00\u001b[0m\n",
            "\u001b[?25hDownloading pyspnego-0.11.2-py3-none-any.whl (130 kB)\n",
            "\u001b[2K   \u001b[90m━━━━━━━━━━━━━━━━━━━━━━━━━━━━━━━━━━━━━━━━\u001b[0m \u001b[32m130.5/130.5 kB\u001b[0m \u001b[31m13.1 MB/s\u001b[0m eta \u001b[36m0:00:00\u001b[0m\n",
            "\u001b[?25hInstalling collected packages: symengine, rustworkx, pbr, stevedore, ibm_cloud_sdk_core, qiskit, pyspnego, ibm-platform-services, requests-ntlm, qiskit-ibm-runtime\n",
            "Successfully installed ibm-platform-services-0.66.0 ibm_cloud_sdk_core-3.24.0 pbr-6.1.1 pyspnego-0.11.2 qiskit-2.0.2 qiskit-ibm-runtime-0.40.0 requests-ntlm-1.3.0 rustworkx-0.16.0 stevedore-5.4.1 symengine-0.13.0\n"
          ]
        }
      ],
      "source": [
        "!pip install qiskit qiskit-ibm-runtime"
      ]
    },
    {
      "cell_type": "code",
      "source": [
        "!pip install qiskit-aer"
      ],
      "metadata": {
        "colab": {
          "base_uri": "https://localhost:8080/"
        },
        "id": "7TDUrPoKk1cI",
        "outputId": "646b2212-1dcd-4238-882c-0e2da2f2fc27"
      },
      "execution_count": 2,
      "outputs": [
        {
          "output_type": "stream",
          "name": "stdout",
          "text": [
            "Collecting qiskit-aer\n",
            "  Downloading qiskit_aer-0.17.0-cp311-cp311-manylinux_2_17_x86_64.manylinux2014_x86_64.whl.metadata (8.2 kB)\n",
            "Requirement already satisfied: qiskit>=1.1.0 in /usr/local/lib/python3.11/dist-packages (from qiskit-aer) (2.0.2)\n",
            "Requirement already satisfied: numpy>=1.16.3 in /usr/local/lib/python3.11/dist-packages (from qiskit-aer) (2.0.2)\n",
            "Requirement already satisfied: scipy>=1.0 in /usr/local/lib/python3.11/dist-packages (from qiskit-aer) (1.15.3)\n",
            "Requirement already satisfied: psutil>=5 in /usr/local/lib/python3.11/dist-packages (from qiskit-aer) (5.9.5)\n",
            "Requirement already satisfied: rustworkx>=0.15.0 in /usr/local/lib/python3.11/dist-packages (from qiskit>=1.1.0->qiskit-aer) (0.16.0)\n",
            "Requirement already satisfied: sympy>=1.3 in /usr/local/lib/python3.11/dist-packages (from qiskit>=1.1.0->qiskit-aer) (1.13.1)\n",
            "Requirement already satisfied: dill>=0.3 in /usr/local/lib/python3.11/dist-packages (from qiskit>=1.1.0->qiskit-aer) (0.3.7)\n",
            "Requirement already satisfied: python-dateutil>=2.8.0 in /usr/local/lib/python3.11/dist-packages (from qiskit>=1.1.0->qiskit-aer) (2.9.0.post0)\n",
            "Requirement already satisfied: stevedore>=3.0.0 in /usr/local/lib/python3.11/dist-packages (from qiskit>=1.1.0->qiskit-aer) (5.4.1)\n",
            "Requirement already satisfied: typing-extensions in /usr/local/lib/python3.11/dist-packages (from qiskit>=1.1.0->qiskit-aer) (4.13.2)\n",
            "Requirement already satisfied: symengine<0.14,>=0.11 in /usr/local/lib/python3.11/dist-packages (from qiskit>=1.1.0->qiskit-aer) (0.13.0)\n",
            "Requirement already satisfied: six>=1.5 in /usr/local/lib/python3.11/dist-packages (from python-dateutil>=2.8.0->qiskit>=1.1.0->qiskit-aer) (1.17.0)\n",
            "Requirement already satisfied: pbr>=2.0.0 in /usr/local/lib/python3.11/dist-packages (from stevedore>=3.0.0->qiskit>=1.1.0->qiskit-aer) (6.1.1)\n",
            "Requirement already satisfied: mpmath<1.4,>=1.1.0 in /usr/local/lib/python3.11/dist-packages (from sympy>=1.3->qiskit>=1.1.0->qiskit-aer) (1.3.0)\n",
            "Requirement already satisfied: setuptools in /usr/local/lib/python3.11/dist-packages (from pbr>=2.0.0->stevedore>=3.0.0->qiskit>=1.1.0->qiskit-aer) (75.2.0)\n",
            "Downloading qiskit_aer-0.17.0-cp311-cp311-manylinux_2_17_x86_64.manylinux2014_x86_64.whl (12.4 MB)\n",
            "\u001b[2K   \u001b[90m━━━━━━━━━━━━━━━━━━━━━━━━━━━━━━━━━━━━━━━━\u001b[0m \u001b[32m12.4/12.4 MB\u001b[0m \u001b[31m73.6 MB/s\u001b[0m eta \u001b[36m0:00:00\u001b[0m\n",
            "\u001b[?25hInstalling collected packages: qiskit-aer\n",
            "Successfully installed qiskit-aer-0.17.0\n"
          ]
        }
      ]
    },
    {
      "cell_type": "code",
      "source": [
        "!pip install pycryptodome\n"
      ],
      "metadata": {
        "colab": {
          "base_uri": "https://localhost:8080/"
        },
        "id": "5LJdXlwCrROO",
        "outputId": "02444b6a-7bae-48a5-c182-252369cae46a"
      },
      "execution_count": 3,
      "outputs": [
        {
          "output_type": "stream",
          "name": "stdout",
          "text": [
            "Collecting pycryptodome\n",
            "  Downloading pycryptodome-3.23.0-cp37-abi3-manylinux_2_17_x86_64.manylinux2014_x86_64.whl.metadata (3.4 kB)\n",
            "Downloading pycryptodome-3.23.0-cp37-abi3-manylinux_2_17_x86_64.manylinux2014_x86_64.whl (2.3 MB)\n",
            "\u001b[2K   \u001b[90m━━━━━━━━━━━━━━━━━━━━━━━━━━━━━━━━━━━━━━━━\u001b[0m \u001b[32m2.3/2.3 MB\u001b[0m \u001b[31m30.1 MB/s\u001b[0m eta \u001b[36m0:00:00\u001b[0m\n",
            "\u001b[?25hInstalling collected packages: pycryptodome\n",
            "Successfully installed pycryptodome-3.23.0\n"
          ]
        }
      ]
    },
    {
      "cell_type": "code",
      "source": [
        "!apt-get install -y cmake gcc libssl-dev\n",
        "!git clone --recursive https://github.com/open-quantum-safe/liboqs-python.git\n",
        "%cd liboqs-python\n",
        "!python3 -m pip install .\n",
        "\n"
      ],
      "metadata": {
        "colab": {
          "base_uri": "https://localhost:8080/"
        },
        "id": "e2PFpT9d7nD4",
        "outputId": "a93f6cf3-f837-49e3-9f36-6f4b03995a0c"
      },
      "execution_count": 4,
      "outputs": [
        {
          "output_type": "stream",
          "name": "stdout",
          "text": [
            "Reading package lists... Done\n",
            "Building dependency tree... Done\n",
            "Reading state information... Done\n",
            "gcc is already the newest version (4:11.2.0-1ubuntu1).\n",
            "gcc set to manually installed.\n",
            "cmake is already the newest version (3.22.1-1ubuntu1.22.04.2).\n",
            "libssl-dev is already the newest version (3.0.2-0ubuntu1.19).\n",
            "0 upgraded, 0 newly installed, 0 to remove and 35 not upgraded.\n",
            "Cloning into 'liboqs-python'...\n",
            "remote: Enumerating objects: 739, done.\u001b[K\n",
            "remote: Counting objects: 100% (247/247), done.\u001b[K\n",
            "remote: Compressing objects: 100% (93/93), done.\u001b[K\n",
            "remote: Total 739 (delta 198), reused 160 (delta 154), pack-reused 492 (from 2)\u001b[K\n",
            "Receiving objects: 100% (739/739), 184.13 KiB | 997.00 KiB/s, done.\n",
            "Resolving deltas: 100% (370/370), done.\n",
            "/content/liboqs-python\n",
            "Processing /content/liboqs-python\n",
            "  Installing build dependencies ... \u001b[?25l\u001b[?25hdone\n",
            "  Getting requirements to build wheel ... \u001b[?25l\u001b[?25hdone\n",
            "  Preparing metadata (pyproject.toml) ... \u001b[?25l\u001b[?25hdone\n",
            "Building wheels for collected packages: liboqs-python\n",
            "  Building wheel for liboqs-python (pyproject.toml) ... \u001b[?25l\u001b[?25hdone\n",
            "  Created wheel for liboqs-python: filename=liboqs_python-0.12.0-py3-none-any.whl size=12437 sha256=2417e7d315c2b05e79d367af0717f97ea0b3aeb82f16df9837a0bb427a6e3092\n",
            "  Stored in directory: /root/.cache/pip/wheels/88/6a/34/7b907e7c67601095491eb47ea991c49facb1ce071d5b40d09c\n",
            "Successfully built liboqs-python\n",
            "Installing collected packages: liboqs-python\n",
            "Successfully installed liboqs-python-0.12.0\n"
          ]
        }
      ]
    },
    {
      "cell_type": "code",
      "source": [
        "from qiskit import QuantumCircuit\n",
        "import random\n",
        "from qiskit_aer import AerSimulator\n",
        "import random"
      ],
      "metadata": {
        "id": "JHz_y7o8jisz"
      },
      "execution_count": 5,
      "outputs": []
    },
    {
      "cell_type": "code",
      "source": [
        "import pkg_resources\n",
        "import sys\n",
        "\n",
        "libraries = [\n",
        "    'qiskit',\n",
        "    'qiskit-aer',\n",
        "    'pycryptodome',\n",
        "    'liboqs-python',\n",
        "    'numpy',\n",
        "    'scipy',\n",
        "    'sympy',\n",
        "]\n",
        "\n",
        "print(\"\\nInstalled library versions:\")\n",
        "for lib in libraries:\n",
        "    try:\n",
        "        version = pkg_resources.get_distribution(lib).version\n",
        "        print(f\"{lib}: {version}\")\n",
        "    except pkg_resources.DistributionNotFound:\n",
        "        print(f\"{lib}: Not installed\")\n"
      ],
      "metadata": {
        "colab": {
          "base_uri": "https://localhost:8080/"
        },
        "id": "4I50RCpnzFEZ",
        "outputId": "ef31f298-f226-40e4-e7ab-673b12793d4b"
      },
      "execution_count": 6,
      "outputs": [
        {
          "output_type": "stream",
          "name": "stdout",
          "text": [
            "\n",
            "Installed library versions:\n",
            "qiskit: 2.0.2\n",
            "qiskit-aer: 0.17.0\n",
            "pycryptodome: 3.23.0\n",
            "liboqs-python: 0.12.0\n",
            "numpy: 2.0.2\n",
            "scipy: 1.15.3\n",
            "sympy: 1.13.1\n"
          ]
        }
      ]
    },
    {
      "cell_type": "markdown",
      "source": [
        "**BB84 Protocol Implementation**\n",
        "\n",
        "A quantum key distribution (QKD) method that allows Alice and Bob to securely share a secret key"
      ],
      "metadata": {
        "id": "0-jzfCswzoeu"
      }
    },
    {
      "cell_type": "code",
      "source": [],
      "metadata": {
        "id": "zHPeKP8fzpzw"
      },
      "execution_count": null,
      "outputs": []
    },
    {
      "cell_type": "code",
      "source": [
        "from qiskit import QuantumCircuit\n",
        "from qiskit_aer import AerSimulator\n",
        "import random\n",
        "\n",
        "def bb84_key_exchange(num_bits=100):\n",
        "    simulator = AerSimulator()\n",
        "\n",
        "    alice_bits = [random.randint(0, 1) for _ in range(num_bits)]\n",
        "    alice_bases = [random.choice(['Z', 'X']) for _ in range(num_bits)]\n",
        "    bob_bases = [random.choice(['Z', 'X']) for _ in range(num_bits)]\n",
        "    bob_results = []\n",
        "\n",
        "    for i in range(num_bits):\n",
        "        qc = QuantumCircuit(1, 1)\n",
        "        if alice_bits[i] == 1:\n",
        "            qc.x(0)\n",
        "        if alice_bases[i] == 'X':\n",
        "            qc.h(0)\n",
        "\n",
        "\n",
        "        if bob_bases[i] == 'X':\n",
        "            qc.h(0)\n",
        "        qc.measure(0, 0)\n",
        "\n",
        "\n",
        "        result = simulator.run(qc, shots=1).result()\n",
        "        measured_bit = int(list(result.get_counts().keys())[0])\n",
        "        bob_results.append(measured_bit)\n",
        "\n",
        "\n",
        "    sifted_key = []\n",
        "    for i in range(num_bits):\n",
        "        if alice_bases[i] == bob_bases[i]:\n",
        "            if alice_bits[i] == bob_results[i]:\n",
        "                sifted_key.append(alice_bits[i])\n",
        "\n",
        "    return sifted_key\n",
        "\n",
        "\n",
        "shared_key = bb84_key_exchange(300)\n",
        "print(\"Shared Secret Key (Sifted):\", shared_key)\n",
        "print(\"Key Length:\", len(shared_key))\n"
      ],
      "metadata": {
        "colab": {
          "base_uri": "https://localhost:8080/"
        },
        "id": "fgxpTmYelBl_",
        "outputId": "332d74c8-1759-45c8-9dfd-c097cf8219eb"
      },
      "execution_count": 7,
      "outputs": [
        {
          "output_type": "stream",
          "name": "stdout",
          "text": [
            "Shared Secret Key (Sifted): [0, 1, 0, 0, 1, 0, 0, 1, 1, 0, 0, 0, 1, 1, 0, 1, 1, 1, 0, 0, 1, 0, 1, 1, 1, 0, 1, 1, 0, 1, 1, 0, 0, 0, 1, 1, 0, 0, 1, 0, 1, 1, 0, 0, 1, 0, 1, 0, 1, 0, 1, 0, 1, 1, 1, 0, 1, 0, 1, 0, 0, 0, 1, 0, 0, 1, 0, 1, 1, 1, 0, 0, 1, 0, 0, 0, 0, 1, 1, 1, 0, 1, 1, 1, 1, 0, 1, 1, 1, 0, 1, 0, 1, 1, 1, 0, 0, 0, 1, 1, 1, 1, 0, 1, 1, 1, 0, 0, 1, 0, 0, 0, 0, 0, 1, 0, 0, 0, 0, 0, 0, 1, 0, 0, 1, 0, 0, 0, 1, 1, 1, 1, 0, 0, 0, 1, 1, 1, 1, 1, 1, 1, 1, 0, 0, 0, 1, 0]\n",
            "Key Length: 148\n"
          ]
        }
      ]
    },
    {
      "cell_type": "markdown",
      "source": [
        "Convert the BB84 sifted key into a byte string."
      ],
      "metadata": {
        "id": "jnn-qJNoz-Ja"
      }
    },
    {
      "cell_type": "code",
      "source": [
        "def bits_to_bytes(bits):\n",
        "    return bytes(int(\"\".join(map(str, bits[i:i+8])), 2) for i in range(0, len(bits), 8))\n",
        "\n",
        "bb84_bytes = bits_to_bytes(shared_key[:128])"
      ],
      "metadata": {
        "id": "wH6y-53v8JQa"
      },
      "execution_count": 8,
      "outputs": []
    },
    {
      "cell_type": "markdown",
      "source": [
        "**Kyber512 Post-Quantum Key Encapsulation**\n",
        "\n",
        "Kyber512 algorithm a post-quantum key encapsulation mechanism (KEM), to generate a shared secret key\n"
      ],
      "metadata": {
        "id": "OZoPLzMU0D7B"
      }
    },
    {
      "cell_type": "code",
      "source": [
        "import oqs\n",
        "import inspect\n",
        "\n",
        "\n",
        "print(dir(oqs))\n",
        "\n",
        "\n",
        "for name, obj in inspect.getmembers(oqs):\n",
        "    if inspect.isclass(obj):\n",
        "       print(name)\n",
        "\n",
        "\n",
        "try:\n",
        "    _ = oqs.KeyEncapsulation\n",
        "    print(\"oqs.KeyEncapsulation exists.\")\n",
        "except AttributeError:\n",
        "    print(\"oqs.KeyEncapsulation does NOT exist directly under oqs.\")\n",
        "\n",
        "with oqs.KeyEncapsulation('Kyber512') as server:\n",
        "    public_key = server.generate_keypair()\n",
        "\n",
        "    with oqs.KeyEncapsulation('Kyber512') as client:\n",
        "        ciphertext, pqc_shared_client = client.encap_secret(public_key)\n",
        "\n",
        "    pqc_shared_server = server.decap_secret(ciphertext)\n",
        "\n",
        "\n",
        "assert pqc_shared_client == pqc_shared_server\n",
        "print(\"[PQC] Kyber512 Shared Key (first 16 bytes):\", pqc_shared_client[:16].hex())\n"
      ],
      "metadata": {
        "colab": {
          "base_uri": "https://localhost:8080/"
        },
        "id": "jGOHIDNi7fgy",
        "outputId": "89982ec0-75ab-4c0e-bef2-dd475a89ba71"
      },
      "execution_count": 9,
      "outputs": [
        {
          "output_type": "stream",
          "name": "stdout",
          "text": [
            "liboqs not found, installing it in /root/_oqs\n"
          ]
        },
        {
          "output_type": "stream",
          "name": "stderr",
          "text": [
            "INFO:oqs.oqs:liboqs not found, installing it in /root/_oqs\n"
          ]
        },
        {
          "output_type": "stream",
          "name": "stdout",
          "text": [
            "Installing in 5 seconds...\n"
          ]
        },
        {
          "output_type": "stream",
          "name": "stderr",
          "text": [
            "INFO:oqs.oqs:Installing in 5 seconds...\n"
          ]
        },
        {
          "output_type": "stream",
          "name": "stdout",
          "text": [
            "Installing in 4 seconds...\n"
          ]
        },
        {
          "output_type": "stream",
          "name": "stderr",
          "text": [
            "INFO:oqs.oqs:Installing in 4 seconds...\n"
          ]
        },
        {
          "output_type": "stream",
          "name": "stdout",
          "text": [
            "Installing in 3 seconds...\n"
          ]
        },
        {
          "output_type": "stream",
          "name": "stderr",
          "text": [
            "INFO:oqs.oqs:Installing in 3 seconds...\n"
          ]
        },
        {
          "output_type": "stream",
          "name": "stdout",
          "text": [
            "Installing in 2 seconds...\n"
          ]
        },
        {
          "output_type": "stream",
          "name": "stderr",
          "text": [
            "INFO:oqs.oqs:Installing in 2 seconds...\n"
          ]
        },
        {
          "output_type": "stream",
          "name": "stdout",
          "text": [
            "Installing in 1 seconds...\n"
          ]
        },
        {
          "output_type": "stream",
          "name": "stderr",
          "text": [
            "INFO:oqs.oqs:Installing in 1 seconds...\n"
          ]
        },
        {
          "output_type": "stream",
          "name": "stdout",
          "text": [
            "Done installing liboqs\n"
          ]
        },
        {
          "output_type": "stream",
          "name": "stderr",
          "text": [
            "INFO:oqs.oqs:Done installing liboqs\n"
          ]
        },
        {
          "output_type": "stream",
          "name": "stdout",
          "text": [
            "['KeyEncapsulation', 'MechanismNotEnabledError', 'MechanismNotSupportedError', 'OQS_SUCCESS', 'OQS_VERSION', 'Signature', '__all__', '__builtins__', '__cached__', '__doc__', '__file__', '__loader__', '__name__', '__package__', '__path__', '__spec__', 'get_enabled_kem_mechanisms', 'get_enabled_sig_mechanisms', 'get_supported_kem_mechanisms', 'get_supported_sig_mechanisms', 'is_kem_enabled', 'is_sig_enabled', 'native', 'oqs', 'oqs_python_version', 'oqs_version']\n",
            "KeyEncapsulation\n",
            "MechanismNotEnabledError\n",
            "MechanismNotSupportedError\n",
            "Signature\n",
            "oqs.KeyEncapsulation exists.\n",
            "[PQC] Kyber512 Shared Key (first 16 bytes): 593198e59dac4b405b4fb6884a6f0d32\n"
          ]
        }
      ]
    },
    {
      "cell_type": "markdown",
      "source": [
        "Combines the BB84 key and the Kyber shared secret  using a byte-wise XOR operation to create a hybrid raw key."
      ],
      "metadata": {
        "id": "Bx3wfKKI0NrX"
      }
    },
    {
      "cell_type": "code",
      "source": [
        "from hashlib import sha256\n",
        "\n",
        "hybrid_raw_key = bytes(a ^ b for a, b in zip(bb84_bytes, pqc_shared_client[:16]))\n",
        "aes_key = sha256(hybrid_raw_key).digest()[:16]\n",
        "print(\"[Hybrid] AES Key:\", aes_key.hex())\n",
        "\n"
      ],
      "metadata": {
        "id": "Mxnv4xP018VL",
        "colab": {
          "base_uri": "https://localhost:8080/"
        },
        "outputId": "15cf844b-6057-4b10-f547-72347126a17a"
      },
      "execution_count": 10,
      "outputs": [
        {
          "output_type": "stream",
          "name": "stdout",
          "text": [
            "[Hybrid] AES Key: cd24d59d240db084ccb53632008f8246\n"
          ]
        }
      ]
    },
    {
      "cell_type": "markdown",
      "source": [
        "**AES-GCM Encryption and HMAC Authentication**\n",
        "\n",
        "This cell encrypts a plaintext message using AES-GCM with the hybrid key"
      ],
      "metadata": {
        "id": "Wl3Mks_y0U-a"
      }
    },
    {
      "cell_type": "code",
      "source": [
        "from Crypto.Cipher import AES\n",
        "from Crypto.Random import get_random_bytes\n",
        "import hmac\n",
        "import hashlib\n",
        "\n",
        "plaintext = b\"Hybrid QKD + PQC secure message\"\n",
        "cipher = AES.new(aes_key, AES.MODE_GCM)\n",
        "ciphertext, tag = cipher.encrypt_and_digest(plaintext)\n",
        "nonce = cipher.nonce\n",
        "mac = hmac.new(aes_key, plaintext, hashlib.sha256).hexdigest()\n",
        "\n",
        "print(\"\\n--- Encrypted Output ---\")\n",
        "print(\"Ciphertext:\", ciphertext.hex())\n",
        "print(\"Nonce:\", nonce.hex())\n",
        "print(\"Tag:\", tag.hex())\n",
        "print(\"MAC (HMAC-SHA256):\", mac)"
      ],
      "metadata": {
        "id": "h7mlikAcq2QQ",
        "colab": {
          "base_uri": "https://localhost:8080/"
        },
        "outputId": "8fae45d0-72f9-4466-de42-a7750f6e4262"
      },
      "execution_count": 11,
      "outputs": [
        {
          "output_type": "stream",
          "name": "stdout",
          "text": [
            "\n",
            "--- Encrypted Output ---\n",
            "Ciphertext: 480d23018ab0b6ce3d2a812deec2971fdd50c4d4d62def9bf4461086606f08\n",
            "Nonce: 855bd0d2123ad23db126b339f91974af\n",
            "Tag: c3312f1521d1af76b9f6caef0be39a60\n",
            "MAC (HMAC-SHA256): b0e89c99469e3ed44b8010116cb9de154375768779427f196b0a46c9037246a8\n"
          ]
        }
      ]
    },
    {
      "cell_type": "markdown",
      "source": [
        "**Decryption with AES-GCM**\n",
        "\n",
        "This cell decrypts the ciphertext using the same AES key and nonce, verifying the authentication and integrity."
      ],
      "metadata": {
        "id": "AmaZ3oSL0b2X"
      }
    },
    {
      "cell_type": "code",
      "source": [
        "cipher_dec = AES.new(aes_key, AES.MODE_GCM, nonce=nonce)\n",
        "decrypted = cipher_dec.decrypt_and_verify(ciphertext, tag)\n",
        "mac_verify = hmac.new(aes_key, decrypted, hashlib.sha256).hexdigest()\n"
      ],
      "metadata": {
        "id": "vzQ7IPmHrCtB"
      },
      "execution_count": 12,
      "outputs": []
    },
    {
      "cell_type": "markdown",
      "source": [
        "**Verification of Message Integrity**\n",
        "\n",
        "This cell compares the original HMAC with the recomputed HMAC to verify the message’s authenticity and integrity."
      ],
      "metadata": {
        "id": "OamtEJ_V0naT"
      }
    },
    {
      "cell_type": "code",
      "source": [
        "print(\"\\n--- Verification ---\")\n",
        "if mac == mac_verify:\n",
        "    print(\"Message is authentic and untampered.\")\n",
        "    print(\"Decrypted message:\", decrypted.decode())\n",
        "else:\n",
        "    print(\"MAC verification failed!\")\n"
      ],
      "metadata": {
        "id": "y4E5nDlj2O4u",
        "colab": {
          "base_uri": "https://localhost:8080/"
        },
        "outputId": "46ec1e42-5666-4381-f558-2eee9f3f9967"
      },
      "execution_count": 13,
      "outputs": [
        {
          "output_type": "stream",
          "name": "stdout",
          "text": [
            "\n",
            "--- Verification ---\n",
            "Message is authentic and untampered.\n",
            "Decrypted message: Hybrid QKD + PQC secure message\n"
          ]
        }
      ]
    },
    {
      "cell_type": "code",
      "source": [],
      "metadata": {
        "id": "Nwbu5FwsGwTX"
      },
      "execution_count": 13,
      "outputs": []
    }
  ]
}