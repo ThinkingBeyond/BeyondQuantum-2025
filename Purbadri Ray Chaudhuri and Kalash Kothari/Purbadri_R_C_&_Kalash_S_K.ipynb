{
  "nbformat": 4,
  "nbformat_minor": 0,
  "metadata": {
    "colab": {
      "provenance": [],
      "toc_visible": true,
      "collapsed_sections": [
        "T4fQrdBAN13p",
        "D26zzCRebt6N",
        "gFvrJ-HkOH-F"
      ]
    },
    "kernelspec": {
      "name": "python3",
      "display_name": "Python 3"
    },
    "language_info": {
      "name": "python"
    }
  },
  "cells": [
    {
      "cell_type": "markdown",
      "source": [
        "# Installations\n"
      ],
      "metadata": {
        "id": "T4fQrdBAN13p"
      }
    },
    {
      "cell_type": "markdown",
      "source": [
        "Here you will find the required installations fpr the following colab, Make Sure you have installed it correctly before running any block of code\n"
      ],
      "metadata": {
        "id": "1GlCaBWwbYBX"
      }
    },
    {
      "cell_type": "code",
      "execution_count": null,
      "metadata": {
        "colab": {
          "base_uri": "https://localhost:8080/"
        },
        "id": "TDTUFxbiqn4t",
        "outputId": "18c8e718-9317-49d2-9523-65535141ae9d"
      },
      "outputs": [
        {
          "output_type": "stream",
          "name": "stdout",
          "text": [
            "Requirement already satisfied: pip in /usr/local/lib/python3.11/dist-packages (24.1.2)\n",
            "Collecting pip\n",
            "  Downloading pip-25.1.1-py3-none-any.whl.metadata (3.6 kB)\n",
            "Downloading pip-25.1.1-py3-none-any.whl (1.8 MB)\n",
            "\u001b[2K   \u001b[90m━━━━━━━━━━━━━━━━━━━━━━━━━━━━━━━━━━━━━━━━\u001b[0m \u001b[32m1.8/1.8 MB\u001b[0m \u001b[31m36.9 MB/s\u001b[0m eta \u001b[36m0:00:00\u001b[0m\n",
            "\u001b[?25hInstalling collected packages: pip\n",
            "  Attempting uninstall: pip\n",
            "    Found existing installation: pip 24.1.2\n",
            "    Uninstalling pip-24.1.2:\n",
            "      Successfully uninstalled pip-24.1.2\n",
            "Successfully installed pip-25.1.1\n"
          ]
        }
      ],
      "source": [
        "!pip3 install --upgrade pip"
      ]
    },
    {
      "cell_type": "code",
      "source": [
        "!pip install qiskit==1.3\n",
        "!pip install qiskit-aer==0.15\n",
        "!pip install pylatexenc==2.10\n",
        "!pip install qiskit_ibm_runtime==0.34.0\n",
        "!pip install qiskit-ibm-runtime"
      ],
      "metadata": {
        "colab": {
          "base_uri": "https://localhost:8080/"
        },
        "id": "IcEiTE-lsbfW",
        "outputId": "7ac75b0a-522e-4811-ecb6-5259299397ab"
      },
      "execution_count": null,
      "outputs": [
        {
          "output_type": "stream",
          "name": "stdout",
          "text": [
            "Collecting qiskit==1.3\n",
            "  Downloading qiskit-1.3.0-cp39-abi3-manylinux_2_17_x86_64.manylinux2014_x86_64.whl.metadata (12 kB)\n",
            "Collecting rustworkx>=0.15.0 (from qiskit==1.3)\n",
            "  Downloading rustworkx-0.16.0-cp39-abi3-manylinux_2_17_x86_64.manylinux2014_x86_64.whl.metadata (10 kB)\n",
            "Requirement already satisfied: numpy<3,>=1.17 in /usr/local/lib/python3.11/dist-packages (from qiskit==1.3) (2.0.2)\n",
            "Requirement already satisfied: scipy>=1.5 in /usr/local/lib/python3.11/dist-packages (from qiskit==1.3) (1.15.3)\n",
            "Requirement already satisfied: sympy>=1.3 in /usr/local/lib/python3.11/dist-packages (from qiskit==1.3) (1.13.1)\n",
            "Requirement already satisfied: dill>=0.3 in /usr/local/lib/python3.11/dist-packages (from qiskit==1.3) (0.3.7)\n",
            "Requirement already satisfied: python-dateutil>=2.8.0 in /usr/local/lib/python3.11/dist-packages (from qiskit==1.3) (2.9.0.post0)\n",
            "Collecting stevedore>=3.0.0 (from qiskit==1.3)\n",
            "  Downloading stevedore-5.4.1-py3-none-any.whl.metadata (2.3 kB)\n",
            "Requirement already satisfied: typing-extensions in /usr/local/lib/python3.11/dist-packages (from qiskit==1.3) (4.13.2)\n",
            "Collecting symengine<0.14,>=0.11 (from qiskit==1.3)\n",
            "  Downloading symengine-0.13.0-cp311-cp311-manylinux_2_17_x86_64.manylinux2014_x86_64.whl.metadata (1.2 kB)\n",
            "Requirement already satisfied: six>=1.5 in /usr/local/lib/python3.11/dist-packages (from python-dateutil>=2.8.0->qiskit==1.3) (1.17.0)\n",
            "Collecting pbr>=2.0.0 (from stevedore>=3.0.0->qiskit==1.3)\n",
            "  Downloading pbr-6.1.1-py2.py3-none-any.whl.metadata (3.4 kB)\n",
            "Requirement already satisfied: setuptools in /usr/local/lib/python3.11/dist-packages (from pbr>=2.0.0->stevedore>=3.0.0->qiskit==1.3) (75.2.0)\n",
            "Requirement already satisfied: mpmath<1.4,>=1.1.0 in /usr/local/lib/python3.11/dist-packages (from sympy>=1.3->qiskit==1.3) (1.3.0)\n",
            "Downloading qiskit-1.3.0-cp39-abi3-manylinux_2_17_x86_64.manylinux2014_x86_64.whl (6.7 MB)\n",
            "\u001b[2K   \u001b[90m━━━━━━━━━━━━━━━━━━━━━━━━━━━━━━━━━━━━━━━━\u001b[0m \u001b[32m6.7/6.7 MB\u001b[0m \u001b[31m99.3 MB/s\u001b[0m eta \u001b[36m0:00:00\u001b[0m\n",
            "\u001b[?25hDownloading symengine-0.13.0-cp311-cp311-manylinux_2_17_x86_64.manylinux2014_x86_64.whl (49.7 MB)\n",
            "\u001b[2K   \u001b[90m━━━━━━━━━━━━━━━━━━━━━━━━━━━━━━━━━━━━━━━━\u001b[0m \u001b[32m49.7/49.7 MB\u001b[0m \u001b[31m72.6 MB/s\u001b[0m eta \u001b[36m0:00:00\u001b[0m\n",
            "\u001b[?25hDownloading rustworkx-0.16.0-cp39-abi3-manylinux_2_17_x86_64.manylinux2014_x86_64.whl (2.1 MB)\n",
            "\u001b[2K   \u001b[90m━━━━━━━━━━━━━━━━━━━━━━━━━━━━━━━━━━━━━━━━\u001b[0m \u001b[32m2.1/2.1 MB\u001b[0m \u001b[31m65.8 MB/s\u001b[0m eta \u001b[36m0:00:00\u001b[0m\n",
            "\u001b[?25hDownloading stevedore-5.4.1-py3-none-any.whl (49 kB)\n",
            "Downloading pbr-6.1.1-py2.py3-none-any.whl (108 kB)\n",
            "Installing collected packages: symengine, rustworkx, pbr, stevedore, qiskit\n",
            "\u001b[2K   \u001b[90m━━━━━━━━━━━━━━━━━━━━━━━━━━━━━━━━━━━━━━━━\u001b[0m \u001b[32m5/5\u001b[0m [qiskit]\n",
            "\u001b[1A\u001b[2KSuccessfully installed pbr-6.1.1 qiskit-1.3.0 rustworkx-0.16.0 stevedore-5.4.1 symengine-0.13.0\n",
            "Collecting qiskit-aer==0.15\n",
            "  Downloading qiskit_aer-0.15.0-cp311-cp311-manylinux_2_17_x86_64.manylinux2014_x86_64.whl.metadata (8.0 kB)\n",
            "Requirement already satisfied: qiskit>=1.1.0 in /usr/local/lib/python3.11/dist-packages (from qiskit-aer==0.15) (1.3.0)\n",
            "Requirement already satisfied: numpy>=1.16.3 in /usr/local/lib/python3.11/dist-packages (from qiskit-aer==0.15) (2.0.2)\n",
            "Requirement already satisfied: scipy>=1.0 in /usr/local/lib/python3.11/dist-packages (from qiskit-aer==0.15) (1.15.3)\n",
            "Requirement already satisfied: psutil>=5 in /usr/local/lib/python3.11/dist-packages (from qiskit-aer==0.15) (5.9.5)\n",
            "Requirement already satisfied: rustworkx>=0.15.0 in /usr/local/lib/python3.11/dist-packages (from qiskit>=1.1.0->qiskit-aer==0.15) (0.16.0)\n",
            "Requirement already satisfied: sympy>=1.3 in /usr/local/lib/python3.11/dist-packages (from qiskit>=1.1.0->qiskit-aer==0.15) (1.13.1)\n",
            "Requirement already satisfied: dill>=0.3 in /usr/local/lib/python3.11/dist-packages (from qiskit>=1.1.0->qiskit-aer==0.15) (0.3.7)\n",
            "Requirement already satisfied: python-dateutil>=2.8.0 in /usr/local/lib/python3.11/dist-packages (from qiskit>=1.1.0->qiskit-aer==0.15) (2.9.0.post0)\n",
            "Requirement already satisfied: stevedore>=3.0.0 in /usr/local/lib/python3.11/dist-packages (from qiskit>=1.1.0->qiskit-aer==0.15) (5.4.1)\n",
            "Requirement already satisfied: typing-extensions in /usr/local/lib/python3.11/dist-packages (from qiskit>=1.1.0->qiskit-aer==0.15) (4.13.2)\n",
            "Requirement already satisfied: symengine<0.14,>=0.11 in /usr/local/lib/python3.11/dist-packages (from qiskit>=1.1.0->qiskit-aer==0.15) (0.13.0)\n",
            "Requirement already satisfied: six>=1.5 in /usr/local/lib/python3.11/dist-packages (from python-dateutil>=2.8.0->qiskit>=1.1.0->qiskit-aer==0.15) (1.17.0)\n",
            "Requirement already satisfied: pbr>=2.0.0 in /usr/local/lib/python3.11/dist-packages (from stevedore>=3.0.0->qiskit>=1.1.0->qiskit-aer==0.15) (6.1.1)\n",
            "Requirement already satisfied: setuptools in /usr/local/lib/python3.11/dist-packages (from pbr>=2.0.0->stevedore>=3.0.0->qiskit>=1.1.0->qiskit-aer==0.15) (75.2.0)\n",
            "Requirement already satisfied: mpmath<1.4,>=1.1.0 in /usr/local/lib/python3.11/dist-packages (from sympy>=1.3->qiskit>=1.1.0->qiskit-aer==0.15) (1.3.0)\n",
            "Downloading qiskit_aer-0.15.0-cp311-cp311-manylinux_2_17_x86_64.manylinux2014_x86_64.whl (12.3 MB)\n",
            "\u001b[2K   \u001b[90m━━━━━━━━━━━━━━━━━━━━━━━━━━━━━━━━━━━━━━━━\u001b[0m \u001b[32m12.3/12.3 MB\u001b[0m \u001b[31m109.0 MB/s\u001b[0m eta \u001b[36m0:00:00\u001b[0m\n",
            "\u001b[?25hInstalling collected packages: qiskit-aer\n",
            "Successfully installed qiskit-aer-0.15.0\n",
            "Collecting pylatexenc==2.10\n",
            "  Downloading pylatexenc-2.10.tar.gz (162 kB)\n",
            "  Preparing metadata (setup.py) ... \u001b[?25l\u001b[?25hdone\n",
            "Building wheels for collected packages: pylatexenc\n",
            "\u001b[33m  DEPRECATION: Building 'pylatexenc' using the legacy setup.py bdist_wheel mechanism, which will be removed in a future version. pip 25.3 will enforce this behaviour change. A possible replacement is to use the standardized build interface by setting the `--use-pep517` option, (possibly combined with `--no-build-isolation`), or adding a `pyproject.toml` file to the source tree of 'pylatexenc'. Discussion can be found at https://github.com/pypa/pip/issues/6334\u001b[0m\u001b[33m\n",
            "\u001b[0m  Building wheel for pylatexenc (setup.py) ... \u001b[?25l\u001b[?25hdone\n",
            "  Created wheel for pylatexenc: filename=pylatexenc-2.10-py3-none-any.whl size=136817 sha256=55440712b0235e141a28da4a015066877cc90fbc0c4d4d408a9ea095bfed4df2\n",
            "  Stored in directory: /root/.cache/pip/wheels/b1/7a/33/9fdd892f784ed4afda62b685ae3703adf4c91aa0f524c28f03\n",
            "Successfully built pylatexenc\n",
            "Installing collected packages: pylatexenc\n",
            "Successfully installed pylatexenc-2.10\n",
            "Collecting qiskit_ibm_runtime==0.34.0\n",
            "  Downloading qiskit_ibm_runtime-0.34.0-py3-none-any.whl.metadata (3.0 kB)\n",
            "Requirement already satisfied: requests>=2.19 in /usr/local/lib/python3.11/dist-packages (from qiskit_ibm_runtime==0.34.0) (2.32.3)\n",
            "Collecting requests-ntlm>=1.1.0 (from qiskit_ibm_runtime==0.34.0)\n",
            "  Downloading requests_ntlm-1.3.0-py3-none-any.whl.metadata (2.4 kB)\n",
            "Requirement already satisfied: numpy>=1.13 in /usr/local/lib/python3.11/dist-packages (from qiskit_ibm_runtime==0.34.0) (2.0.2)\n",
            "Requirement already satisfied: urllib3>=1.21.1 in /usr/local/lib/python3.11/dist-packages (from qiskit_ibm_runtime==0.34.0) (2.4.0)\n",
            "Requirement already satisfied: python-dateutil>=2.8.0 in /usr/local/lib/python3.11/dist-packages (from qiskit_ibm_runtime==0.34.0) (2.9.0.post0)\n",
            "Requirement already satisfied: websocket-client>=1.5.1 in /usr/local/lib/python3.11/dist-packages (from qiskit_ibm_runtime==0.34.0) (1.8.0)\n",
            "Collecting ibm-platform-services>=0.22.6 (from qiskit_ibm_runtime==0.34.0)\n",
            "  Downloading ibm_platform_services-0.66.0-py3-none-any.whl.metadata (9.0 kB)\n",
            "Collecting pydantic<2.10,>=2.5.0 (from qiskit_ibm_runtime==0.34.0)\n",
            "  Downloading pydantic-2.9.2-py3-none-any.whl.metadata (149 kB)\n",
            "Requirement already satisfied: qiskit>=1.1.0 in /usr/local/lib/python3.11/dist-packages (from qiskit_ibm_runtime==0.34.0) (1.3.0)\n",
            "Requirement already satisfied: annotated-types>=0.6.0 in /usr/local/lib/python3.11/dist-packages (from pydantic<2.10,>=2.5.0->qiskit_ibm_runtime==0.34.0) (0.7.0)\n",
            "Collecting pydantic-core==2.23.4 (from pydantic<2.10,>=2.5.0->qiskit_ibm_runtime==0.34.0)\n",
            "  Downloading pydantic_core-2.23.4-cp311-cp311-manylinux_2_17_x86_64.manylinux2014_x86_64.whl.metadata (6.6 kB)\n",
            "Requirement already satisfied: typing-extensions>=4.6.1 in /usr/local/lib/python3.11/dist-packages (from pydantic<2.10,>=2.5.0->qiskit_ibm_runtime==0.34.0) (4.13.2)\n",
            "Collecting ibm_cloud_sdk_core<4.0.0,>=3.22.1 (from ibm-platform-services>=0.22.6->qiskit_ibm_runtime==0.34.0)\n",
            "  Downloading ibm_cloud_sdk_core-3.23.0-py3-none-any.whl.metadata (8.7 kB)\n",
            "Requirement already satisfied: PyJWT<3.0.0,>=2.8.0 in /usr/local/lib/python3.11/dist-packages (from ibm_cloud_sdk_core<4.0.0,>=3.22.1->ibm-platform-services>=0.22.6->qiskit_ibm_runtime==0.34.0) (2.10.1)\n",
            "Requirement already satisfied: six>=1.5 in /usr/local/lib/python3.11/dist-packages (from python-dateutil>=2.8.0->qiskit_ibm_runtime==0.34.0) (1.17.0)\n",
            "Requirement already satisfied: charset-normalizer<4,>=2 in /usr/local/lib/python3.11/dist-packages (from requests>=2.19->qiskit_ibm_runtime==0.34.0) (3.4.2)\n",
            "Requirement already satisfied: idna<4,>=2.5 in /usr/local/lib/python3.11/dist-packages (from requests>=2.19->qiskit_ibm_runtime==0.34.0) (3.10)\n",
            "Requirement already satisfied: certifi>=2017.4.17 in /usr/local/lib/python3.11/dist-packages (from requests>=2.19->qiskit_ibm_runtime==0.34.0) (2025.4.26)\n",
            "Requirement already satisfied: rustworkx>=0.15.0 in /usr/local/lib/python3.11/dist-packages (from qiskit>=1.1.0->qiskit_ibm_runtime==0.34.0) (0.16.0)\n",
            "Requirement already satisfied: scipy>=1.5 in /usr/local/lib/python3.11/dist-packages (from qiskit>=1.1.0->qiskit_ibm_runtime==0.34.0) (1.15.3)\n",
            "Requirement already satisfied: sympy>=1.3 in /usr/local/lib/python3.11/dist-packages (from qiskit>=1.1.0->qiskit_ibm_runtime==0.34.0) (1.13.1)\n",
            "Requirement already satisfied: dill>=0.3 in /usr/local/lib/python3.11/dist-packages (from qiskit>=1.1.0->qiskit_ibm_runtime==0.34.0) (0.3.7)\n",
            "Requirement already satisfied: stevedore>=3.0.0 in /usr/local/lib/python3.11/dist-packages (from qiskit>=1.1.0->qiskit_ibm_runtime==0.34.0) (5.4.1)\n",
            "Requirement already satisfied: symengine<0.14,>=0.11 in /usr/local/lib/python3.11/dist-packages (from qiskit>=1.1.0->qiskit_ibm_runtime==0.34.0) (0.13.0)\n",
            "Requirement already satisfied: cryptography>=1.3 in /usr/local/lib/python3.11/dist-packages (from requests-ntlm>=1.1.0->qiskit_ibm_runtime==0.34.0) (43.0.3)\n",
            "Collecting pyspnego>=0.4.0 (from requests-ntlm>=1.1.0->qiskit_ibm_runtime==0.34.0)\n",
            "  Downloading pyspnego-0.11.2-py3-none-any.whl.metadata (5.4 kB)\n",
            "Requirement already satisfied: cffi>=1.12 in /usr/local/lib/python3.11/dist-packages (from cryptography>=1.3->requests-ntlm>=1.1.0->qiskit_ibm_runtime==0.34.0) (1.17.1)\n",
            "Requirement already satisfied: pycparser in /usr/local/lib/python3.11/dist-packages (from cffi>=1.12->cryptography>=1.3->requests-ntlm>=1.1.0->qiskit_ibm_runtime==0.34.0) (2.22)\n",
            "Requirement already satisfied: pbr>=2.0.0 in /usr/local/lib/python3.11/dist-packages (from stevedore>=3.0.0->qiskit>=1.1.0->qiskit_ibm_runtime==0.34.0) (6.1.1)\n",
            "Requirement already satisfied: setuptools in /usr/local/lib/python3.11/dist-packages (from pbr>=2.0.0->stevedore>=3.0.0->qiskit>=1.1.0->qiskit_ibm_runtime==0.34.0) (75.2.0)\n",
            "Requirement already satisfied: mpmath<1.4,>=1.1.0 in /usr/local/lib/python3.11/dist-packages (from sympy>=1.3->qiskit>=1.1.0->qiskit_ibm_runtime==0.34.0) (1.3.0)\n",
            "Downloading qiskit_ibm_runtime-0.34.0-py3-none-any.whl (3.0 MB)\n",
            "\u001b[2K   \u001b[90m━━━━━━━━━━━━━━━━━━━━━━━━━━━━━━━━━━━━━━━━\u001b[0m \u001b[32m3.0/3.0 MB\u001b[0m \u001b[31m84.5 MB/s\u001b[0m eta \u001b[36m0:00:00\u001b[0m\n",
            "\u001b[?25hDownloading pydantic-2.9.2-py3-none-any.whl (434 kB)\n",
            "Downloading pydantic_core-2.23.4-cp311-cp311-manylinux_2_17_x86_64.manylinux2014_x86_64.whl (2.1 MB)\n",
            "\u001b[2K   \u001b[90m━━━━━━━━━━━━━━━━━━━━━━━━━━━━━━━━━━━━━━━━\u001b[0m \u001b[32m2.1/2.1 MB\u001b[0m \u001b[31m76.1 MB/s\u001b[0m eta \u001b[36m0:00:00\u001b[0m\n",
            "\u001b[?25hDownloading ibm_platform_services-0.66.0-py3-none-any.whl (363 kB)\n",
            "Downloading ibm_cloud_sdk_core-3.23.0-py3-none-any.whl (69 kB)\n",
            "Downloading requests_ntlm-1.3.0-py3-none-any.whl (6.6 kB)\n",
            "Downloading pyspnego-0.11.2-py3-none-any.whl (130 kB)\n",
            "Installing collected packages: pydantic-core, pydantic, ibm_cloud_sdk_core, pyspnego, ibm-platform-services, requests-ntlm, qiskit_ibm_runtime\n",
            "\u001b[2K  Attempting uninstall: pydantic-core\n",
            "\u001b[2K    Found existing installation: pydantic_core 2.33.2\n",
            "\u001b[2K    Uninstalling pydantic_core-2.33.2:\n",
            "\u001b[2K      Successfully uninstalled pydantic_core-2.33.2\n",
            "\u001b[2K  Attempting uninstall: pydantic\n",
            "\u001b[2K    Found existing installation: pydantic 2.11.4\n",
            "\u001b[2K    Uninstalling pydantic-2.11.4:\n",
            "\u001b[2K      Successfully uninstalled pydantic-2.11.4\n",
            "\u001b[2K   \u001b[90m━━━━━━━━━━━━━━━━━━━━━━━━━━━━━━━━━━━━━━━━\u001b[0m \u001b[32m7/7\u001b[0m [qiskit_ibm_runtime]\n",
            "\u001b[1A\u001b[2KSuccessfully installed ibm-platform-services-0.66.0 ibm_cloud_sdk_core-3.23.0 pydantic-2.9.2 pydantic-core-2.23.4 pyspnego-0.11.2 qiskit_ibm_runtime-0.34.0 requests-ntlm-1.3.0\n",
            "Requirement already satisfied: qiskit-ibm-runtime in /usr/local/lib/python3.11/dist-packages (0.34.0)\n",
            "Requirement already satisfied: requests>=2.19 in /usr/local/lib/python3.11/dist-packages (from qiskit-ibm-runtime) (2.32.3)\n",
            "Requirement already satisfied: requests-ntlm>=1.1.0 in /usr/local/lib/python3.11/dist-packages (from qiskit-ibm-runtime) (1.3.0)\n",
            "Requirement already satisfied: numpy>=1.13 in /usr/local/lib/python3.11/dist-packages (from qiskit-ibm-runtime) (2.0.2)\n",
            "Requirement already satisfied: urllib3>=1.21.1 in /usr/local/lib/python3.11/dist-packages (from qiskit-ibm-runtime) (2.4.0)\n",
            "Requirement already satisfied: python-dateutil>=2.8.0 in /usr/local/lib/python3.11/dist-packages (from qiskit-ibm-runtime) (2.9.0.post0)\n",
            "Requirement already satisfied: websocket-client>=1.5.1 in /usr/local/lib/python3.11/dist-packages (from qiskit-ibm-runtime) (1.8.0)\n",
            "Requirement already satisfied: ibm-platform-services>=0.22.6 in /usr/local/lib/python3.11/dist-packages (from qiskit-ibm-runtime) (0.66.0)\n",
            "Requirement already satisfied: pydantic<2.10,>=2.5.0 in /usr/local/lib/python3.11/dist-packages (from qiskit-ibm-runtime) (2.9.2)\n",
            "Requirement already satisfied: qiskit>=1.1.0 in /usr/local/lib/python3.11/dist-packages (from qiskit-ibm-runtime) (1.3.0)\n",
            "Requirement already satisfied: annotated-types>=0.6.0 in /usr/local/lib/python3.11/dist-packages (from pydantic<2.10,>=2.5.0->qiskit-ibm-runtime) (0.7.0)\n",
            "Requirement already satisfied: pydantic-core==2.23.4 in /usr/local/lib/python3.11/dist-packages (from pydantic<2.10,>=2.5.0->qiskit-ibm-runtime) (2.23.4)\n",
            "Requirement already satisfied: typing-extensions>=4.6.1 in /usr/local/lib/python3.11/dist-packages (from pydantic<2.10,>=2.5.0->qiskit-ibm-runtime) (4.13.2)\n",
            "Requirement already satisfied: ibm_cloud_sdk_core<4.0.0,>=3.22.1 in /usr/local/lib/python3.11/dist-packages (from ibm-platform-services>=0.22.6->qiskit-ibm-runtime) (3.23.0)\n",
            "Requirement already satisfied: PyJWT<3.0.0,>=2.8.0 in /usr/local/lib/python3.11/dist-packages (from ibm_cloud_sdk_core<4.0.0,>=3.22.1->ibm-platform-services>=0.22.6->qiskit-ibm-runtime) (2.10.1)\n",
            "Requirement already satisfied: six>=1.5 in /usr/local/lib/python3.11/dist-packages (from python-dateutil>=2.8.0->qiskit-ibm-runtime) (1.17.0)\n",
            "Requirement already satisfied: charset-normalizer<4,>=2 in /usr/local/lib/python3.11/dist-packages (from requests>=2.19->qiskit-ibm-runtime) (3.4.2)\n",
            "Requirement already satisfied: idna<4,>=2.5 in /usr/local/lib/python3.11/dist-packages (from requests>=2.19->qiskit-ibm-runtime) (3.10)\n",
            "Requirement already satisfied: certifi>=2017.4.17 in /usr/local/lib/python3.11/dist-packages (from requests>=2.19->qiskit-ibm-runtime) (2025.4.26)\n",
            "Requirement already satisfied: rustworkx>=0.15.0 in /usr/local/lib/python3.11/dist-packages (from qiskit>=1.1.0->qiskit-ibm-runtime) (0.16.0)\n",
            "Requirement already satisfied: scipy>=1.5 in /usr/local/lib/python3.11/dist-packages (from qiskit>=1.1.0->qiskit-ibm-runtime) (1.15.3)\n",
            "Requirement already satisfied: sympy>=1.3 in /usr/local/lib/python3.11/dist-packages (from qiskit>=1.1.0->qiskit-ibm-runtime) (1.13.1)\n",
            "Requirement already satisfied: dill>=0.3 in /usr/local/lib/python3.11/dist-packages (from qiskit>=1.1.0->qiskit-ibm-runtime) (0.3.7)\n",
            "Requirement already satisfied: stevedore>=3.0.0 in /usr/local/lib/python3.11/dist-packages (from qiskit>=1.1.0->qiskit-ibm-runtime) (5.4.1)\n",
            "Requirement already satisfied: symengine<0.14,>=0.11 in /usr/local/lib/python3.11/dist-packages (from qiskit>=1.1.0->qiskit-ibm-runtime) (0.13.0)\n",
            "Requirement already satisfied: cryptography>=1.3 in /usr/local/lib/python3.11/dist-packages (from requests-ntlm>=1.1.0->qiskit-ibm-runtime) (43.0.3)\n",
            "Requirement already satisfied: pyspnego>=0.4.0 in /usr/local/lib/python3.11/dist-packages (from requests-ntlm>=1.1.0->qiskit-ibm-runtime) (0.11.2)\n",
            "Requirement already satisfied: cffi>=1.12 in /usr/local/lib/python3.11/dist-packages (from cryptography>=1.3->requests-ntlm>=1.1.0->qiskit-ibm-runtime) (1.17.1)\n",
            "Requirement already satisfied: pycparser in /usr/local/lib/python3.11/dist-packages (from cffi>=1.12->cryptography>=1.3->requests-ntlm>=1.1.0->qiskit-ibm-runtime) (2.22)\n",
            "Requirement already satisfied: pbr>=2.0.0 in /usr/local/lib/python3.11/dist-packages (from stevedore>=3.0.0->qiskit>=1.1.0->qiskit-ibm-runtime) (6.1.1)\n",
            "Requirement already satisfied: setuptools in /usr/local/lib/python3.11/dist-packages (from pbr>=2.0.0->stevedore>=3.0.0->qiskit>=1.1.0->qiskit-ibm-runtime) (75.2.0)\n",
            "Requirement already satisfied: mpmath<1.4,>=1.1.0 in /usr/local/lib/python3.11/dist-packages (from sympy>=1.3->qiskit>=1.1.0->qiskit-ibm-runtime) (1.3.0)\n"
          ]
        }
      ]
    },
    {
      "cell_type": "code",
      "source": [
        "import qiskit\n",
        "qiskit.__version__"
      ],
      "metadata": {
        "colab": {
          "base_uri": "https://localhost:8080/"
        },
        "id": "Ztuz5PkbxBRb",
        "outputId": "221b1f34-dfe3-4962-91f6-30d689d3118a"
      },
      "execution_count": null,
      "outputs": [
        {
          "output_type": "execute_result",
          "data": {
            "text/plain": [
              "'1.3.0'"
            ],
            "application/vnd.google.colaboratory.intrinsic+json": {
              "type": "string"
            }
          },
          "metadata": {},
          "execution_count": 3
        }
      ]
    },
    {
      "cell_type": "markdown",
      "source": [
        "# Running of grovers algorithm for 2 & 3 qubit system"
      ],
      "metadata": {
        "id": "D26zzCRebt6N"
      }
    },
    {
      "cell_type": "markdown",
      "source": [
        "Make the neccesary imports to run the code"
      ],
      "metadata": {
        "id": "Rx8LiYP5cE2F"
      }
    },
    {
      "cell_type": "code",
      "source": [
        "from qiskit import QuantumCircuit, QuantumRegister, ClassicalRegister\n",
        "from qiskit.visualization import plot_state_qsphere, plot_histogram\n",
        "from qiskit_aer.primitives import SamplerV2\n",
        "from qiskit_aer import AerSimulator, Aer\n",
        "from qiskit.visualization import plot_bloch_vector\n",
        "from qiskit.quantum_info import Statevector, random_statevector\n",
        "import numpy as np\n",
        "import matplotlib.pyplot as plt"
      ],
      "metadata": {
        "id": "CVf0--jWxMXJ"
      },
      "execution_count": null,
      "outputs": []
    },
    {
      "cell_type": "markdown",
      "source": [
        "We define a function which performs \"Grover search\" on a specific case of |01>, The reason that it is for a specific case is because of the oracle operator which is always case specific\n",
        "\n",
        "The below lines of function return a circuit and a job run result as output"
      ],
      "metadata": {
        "id": "4NA5xWATcPwG"
      }
    },
    {
      "cell_type": "code",
      "source": [
        "def grover_2qubit():\n",
        "    # Initialize circuit\n",
        "    qc = QuantumCircuit(2, 2, name=\"2-Qubit Grover |01⟩\")\n",
        "\n",
        "    # Step 1: Create superposition\n",
        "    qc.h([0, 1])\n",
        "    qc.barrier()  # For visual separation\n",
        "\n",
        "    # Step 2: Oracle for |01⟩\n",
        "    # To mark |01⟩, we convert it to |11⟩, apply CZ, then convert back\n",
        "    qc.x(0)      # Flip first qubit: |01⟩ → |11⟩\n",
        "    qc.cz(0, 1)  # Phase flip on |11⟩\n",
        "    qc.x(0)      # Revert: |11⟩ → |01⟩\n",
        "    qc.barrier()\n",
        "\n",
        "    # Step 3: Diffusion operator\n",
        "    qc.h([0, 1])\n",
        "    qc.x([0, 1])\n",
        "    qc.cz(0, 1)  # 2-qubit inversion about mean\n",
        "    qc.x([0, 1])\n",
        "    qc.h([0, 1])\n",
        "    qc.barrier()\n",
        "\n",
        "    # Measurement\n",
        "    qc.measure([0, 1], [0, 1])\n",
        "\n",
        "    # Simulation\n",
        "    backend = Aer.get_backend('qasm_simulator')\n",
        "    job = AerSimulator().run(qc, shots=1024)  # Added shots parameter\n",
        "    result = job.result()\n",
        "    counts = result.get_counts(qc)\n",
        "\n",
        "    return qc, counts\n",
        "\n",
        "# Execute\n",
        "circuit_2q, results_2q = grover_2qubit()\n",
        "circuit_2q.draw(output='mpl', style='iqp', scale=0.8)"
      ],
      "metadata": {
        "colab": {
          "base_uri": "https://localhost:8080/",
          "height": 167
        },
        "id": "WpxHdY4wxQRA",
        "outputId": "742005b9-2339-42b4-faf1-afebb8ee142a"
      },
      "execution_count": null,
      "outputs": [
        {
          "output_type": "execute_result",
          "data": {
            "text/plain": [
              "<Figure size 1032.5x227.422 with 1 Axes>"
            ],
            "image/png": "[encoded data removed]"
          },
          "metadata": {},
          "execution_count": 5
        }
      ]
    },
    {
      "cell_type": "markdown",
      "source": [
        "As we see we have successfully constructed our grover search circuit ad we can see the construction"
      ],
      "metadata": {
        "id": "n55v0VMtdGP_"
      }
    },
    {
      "cell_type": "markdown",
      "source": [
        "Now we try and plot the results for the output and see what are the results"
      ],
      "metadata": {
        "id": "GVEaeLg4dfDC"
      }
    },
    {
      "cell_type": "code",
      "source": [
        "plot_histogram(results_2q)"
      ],
      "metadata": {
        "colab": {
          "base_uri": "https://localhost:8080/",
          "height": 437
        },
        "id": "fn9KIPQ9OCNh",
        "outputId": "3ab866e6-8215-48df-e2d6-28f754f6e9ed"
      },
      "execution_count": null,
      "outputs": [
        {
          "output_type": "execute_result",
          "data": {
            "text/plain": [
              "<Figure size 640x480 with 1 Axes>"
            ],
            "image/png": "[encoded data removed]"
          },
          "metadata": {},
          "execution_count": 6
        }
      ]
    },
    {
      "cell_type": "markdown",
      "source": [
        "We can now clearly see that the result is the expected state for each job run and we can say that the circuit run perfectly on the simulator"
      ],
      "metadata": {
        "id": "XOUSmkCNdorK"
      }
    },
    {
      "cell_type": "markdown",
      "source": [
        "---\n",
        "Now we form a function for 3 qubit state |010> and run it to check the results and find the answeres"
      ],
      "metadata": {
        "id": "n2g-lMynd8cg"
      }
    },
    {
      "cell_type": "code",
      "source": [
        "def grover_3qubit():\n",
        "    # Initialize circuit\n",
        "    qc = QuantumCircuit(3, 3, name=\"3-Qubit Grover |010⟩\")\n",
        "\n",
        "    # Step 1: Create superposition\n",
        "    qc.h([0, 1, 2])\n",
        "    qc.barrier()\n",
        "\n",
        "    # Step 2: Oracle for |010⟩\n",
        "    # Convert |010⟩ → |111⟩, apply MCZ, then revert\n",
        "    qc.x(0)  # Flip qubit 0 (first bit '0' in target)\n",
        "    qc.x(2)  # Flip qubit 2 (third bit '0' in target)\n",
        "\n",
        "    # Multi-controlled Z (H • MCX • H)\n",
        "    qc.h(2)\n",
        "    qc.mcx([0,1], 2)  # Controls on q0,q1; target q2\n",
        "    qc.h(2)\n",
        "\n",
        "    qc.x(0)  # Revert\n",
        "    qc.x(2)\n",
        "    qc.barrier()\n",
        "\n",
        "    # Step 3: Diffusion operator\n",
        "    qc.h([0, 1, 2])\n",
        "    qc.x([0, 1, 2])\n",
        "\n",
        "    # 3-qubit inversion about mean\n",
        "    qc.h(2)\n",
        "    qc.mcx([0,1], 2)\n",
        "    qc.h(2)\n",
        "\n",
        "    qc.x([0, 1, 2])\n",
        "    qc.h([0, 1, 2])\n",
        "    qc.barrier()\n",
        "\n",
        "    # Measurement\n",
        "    qc.measure([0, 1, 2], [0, 1, 2])\n",
        "\n",
        "    # Theoretical analysis\n",
        "    print(\"\\n3-Qubit Grover's Algorithm\")\n",
        "    print(\"Target state: |010⟩\")\n",
        "    print(\"Optimal iterations: 2 (for N=8, π/4√8 ≈ 1.78 → round to 2)\")\n",
        "\n",
        "    # Simulation\n",
        "    backend = Aer.get_backend('qasm_simulator')\n",
        "    job = AerSimulator().run(qc, shots=1024)  # Added shots parameter\n",
        "    result = job.result()\n",
        "    counts = result.get_counts(qc)\n",
        "\n",
        "    # Visualization\n",
        "    plot_histogram(counts, title=\"3-Qubit Grover Results (|010⟩)\")\n",
        "    plt.show()\n",
        "\n",
        "    return qc, counts\n",
        "\n",
        "# Execute\n",
        "circuit_3q, results_3q = grover_3qubit()\n",
        "circuit_3q.draw(output='mpl', style='iqp', scale=0.8)"
      ],
      "metadata": {
        "colab": {
          "base_uri": "https://localhost:8080/",
          "height": 234
        },
        "id": "S3_KuGMCMGx6",
        "outputId": "247d322e-3b31-4094-9e09-c35148b26ef5"
      },
      "execution_count": null,
      "outputs": [
        {
          "output_type": "stream",
          "name": "stdout",
          "text": [
            "\n",
            "3-Qubit Grover's Algorithm\n",
            "Target state: |010⟩\n",
            "Optimal iterations: 2 (for N=8, π/4√8 ≈ 1.78 → round to 2)\n"
          ]
        },
        {
          "output_type": "execute_result",
          "data": {
            "text/plain": [
              "<Figure size 1367.11x294.311 with 1 Axes>"
            ],
            "image/png": "[encoded data removed]"
          },
          "metadata": {},
          "execution_count": 7
        }
      ]
    },
    {
      "cell_type": "markdown",
      "source": [
        "As we see we have successfully constructed our grover search circuit ad we can see the construction"
      ],
      "metadata": {
        "id": "_s15OLsCe-wj"
      }
    },
    {
      "cell_type": "markdown",
      "source": [
        "Now we try and plot the results for the output and see what are the results"
      ],
      "metadata": {
        "id": "Uv23gUsDfFeE"
      }
    },
    {
      "cell_type": "code",
      "source": [
        "plot_histogram(results_3q)"
      ],
      "metadata": {
        "colab": {
          "base_uri": "https://localhost:8080/",
          "height": 446
        },
        "id": "qf6B-3qjNPkJ",
        "outputId": "0b6f9ee7-53ef-4e35-f3d1-9eafca477d6e"
      },
      "execution_count": null,
      "outputs": [
        {
          "output_type": "execute_result",
          "data": {
            "text/plain": [
              "<Figure size 640x480 with 1 Axes>"
            ],
            "image/png": "[encoded data removed]"
          },
          "metadata": {},
          "execution_count": 8
        }
      ]
    },
    {
      "cell_type": "markdown",
      "source": [
        "\n",
        "*   For N=8 items (3 qubits), optimal iterations = 2\n",
        "*   Achieves ~95% success probability after 2 iterations\n",
        "*   Circuit depth: 14 gates (excluding barriers/measurement)"
      ],
      "metadata": {
        "id": "ZnsZlQc7NXkJ"
      }
    },
    {
      "cell_type": "markdown",
      "source": [
        "---\n",
        "Heading further we can also try to build circuits for the higher qubit states using simulator and test them, But before building them we try and run this circuit on IBM hardware and see the results"
      ],
      "metadata": {
        "id": "AIrf3ZmofvGh"
      }
    },
    {
      "cell_type": "markdown",
      "source": [
        "# Runing the Grover's algorithm on IBM hardware and seeing how the results are effected"
      ],
      "metadata": {
        "id": "gFvrJ-HkOH-F"
      }
    },
    {
      "cell_type": "code",
      "source": [
        "from qiskit import *\n",
        "from qiskit_ibm_runtime import QiskitRuntimeService"
      ],
      "metadata": {
        "id": "ymUJhiWTOmIs"
      },
      "execution_count": null,
      "outputs": []
    },
    {
      "cell_type": "code",
      "source": [
        "API_KEY = '63492781a837ac2d44410e1e4a8010cc6df4f471667f0ffc083945ac87f5605de136629be36da3eb12a4b427c6b2ee2a28331141bd1e1a9860f713bff6492cad'\n",
        "service = QiskitRuntimeService('ibm_quantum', API_KEY)\n",
        "provider = QiskitRuntimeService(channel=\"ibm_quantum\", token=API_KEY)\n",
        "\n",
        "from qiskit import QuantumCircuit\n",
        "from qiskit_ibm_runtime import QiskitRuntimeService, Sampler, Options\n",
        "from qiskit_aer.primitives import SamplerV2\n",
        "import logging\n",
        "\n",
        "from qiskit.transpiler.preset_passmanagers import generate_preset_pass_manager\n",
        "from qiskit_ibm_runtime.fake_provider import FakeBrisbane\n",
        "\n",
        "import time\n",
        "from qiskit import QuantumCircuit\n",
        "from qiskit_ibm_runtime import QiskitRuntimeService, Sampler\n",
        "from qiskit.transpiler.preset_passmanagers import generate_preset_pass_manager\n",
        "from qiskit_ibm_runtime.fake_provider import FakeBrisbane"
      ],
      "metadata": {
        "id": "AgOw2i54gn_h"
      },
      "execution_count": null,
      "outputs": []
    },
    {
      "cell_type": "code",
      "source": [
        "# Set up logging\n",
        "logging.basicConfig(level=logging.INFO)\n",
        "logger = logging.getLogger(__name__)\n",
        "\n",
        "# Get backend\n",
        "# The backend variable is already defined in the previous cell, no need to redefine here unless desired.\n",
        "# We will use the 'provider' object defined previously to get the 'ibm_sherbrooke' backend.\n",
        "# backend = service.least_busy(operational=True, simulator=False, min_num_qubits=3)\n",
        "# print(\"Least busy backend:\", backend.name)\n",
        "\n",
        "def grover_2qubit():\n",
        "    # Initialize circuit\n",
        "    qc = QuantumCircuit(3, 3, name=\"3-Qubit Grover |010⟩\")\n",
        "\n",
        "    # [Your circuit construction code remains the same...]\n",
        "    # Step 1: Create superposition\n",
        "    qc.h([0, 1, 2])\n",
        "    qc.barrier()\n",
        "\n",
        "    # Step 2: Oracle for |010⟩\n",
        "    qc.x(0)\n",
        "    qc.x(2)\n",
        "    qc.h(2)\n",
        "    qc.mcx([0,1], 2)\n",
        "    qc.h(2)\n",
        "    qc.x(0)\n",
        "    qc.x(2)\n",
        "    qc.barrier()\n",
        "\n",
        "    # Step 3: Diffusion operator\n",
        "    qc.h([0, 1, 2])\n",
        "    qc.x([0, 1, 2])\n",
        "    qc.h(2)\n",
        "    qc.mcx([0,1], 2)\n",
        "    qc.h(2)\n",
        "    qc.x([0, 1, 2])\n",
        "    qc.h([0, 1, 2])\n",
        "    qc.barrier()\n",
        "\n",
        "    # Measurement\n",
        "    qc.measure([0, 1, 2], [0, 1, 2])\n",
        "\n",
        "    # Set up runtime options\n",
        "    # Get the backend within the function scope\n",
        "    backend = provider.backend('ibm_sherbrooke')\n",
        "    # Initialize SamplerV2 without the backend argument\n",
        "    sampler = SamplerV2()\n",
        "    # Pass the backend to the run method\n",
        "    job = sampler.run([qc], shots=1024) # Pass backend to run method\n",
        "    result = job.result()\n",
        "    counts_exp = result[0].data.c.get_counts()\n",
        "\n",
        "    return qc, counts_exp\n",
        "\n",
        "# Execute\n",
        "circuit_2q, results_2q = grover_2qubit()\n",
        "print(\"Final results:\", results_2q)"
      ],
      "metadata": {
        "colab": {
          "base_uri": "https://localhost:8080/"
        },
        "id": "HOg_YESGPMfh",
        "outputId": "fc53f3aa-590d-47c1-d651-07b8bbdd2b7d"
      },
      "execution_count": null,
      "outputs": [
        {
          "output_type": "stream",
          "name": "stdout",
          "text": [
            "Final results: {'010': 809, '101': 31, '011': 35, '100': 34, '111': 29, '000': 30, '001': 29, '110': 27}\n"
          ]
        }
      ]
    },
    {
      "cell_type": "code",
      "source": [
        "backend = FakeBrisbane()#service.backend('ibm_brisbane')\n",
        "target = backend.target\n",
        "pm = generate_preset_pass_manager(target=target, optimization_level=3)\n",
        "\n",
        "grover_compiled = pm.run(circuit_2q)\n",
        "\n",
        "print('gates = ', grover_compiled.count_ops())\n",
        "print('depth = ', grover_compiled.depth())"
      ],
      "metadata": {
        "colab": {
          "base_uri": "https://localhost:8080/"
        },
        "id": "EJTUJ5JvkXaE",
        "outputId": "9b6cf1e5-9b3a-42f4-fc08-5366d671d32f"
      },
      "execution_count": null,
      "outputs": [
        {
          "output_type": "stream",
          "name": "stdout",
          "text": [
            "gates =  OrderedDict([('rz', 81), ('sx', 46), ('ecr', 19), ('barrier', 3), ('measure', 3), ('x', 2)])\n",
            "depth =  100\n"
          ]
        }
      ]
    },
    {
      "cell_type": "code",
      "source": [
        "circuit_2q.draw()"
      ],
      "metadata": {
        "colab": {
          "base_uri": "https://localhost:8080/",
          "height": 294
        },
        "id": "b6eMhcl2tFNX",
        "outputId": "8138547e-4a19-420b-f9a8-97fad18bc8c5"
      },
      "execution_count": null,
      "outputs": [
        {
          "output_type": "execute_result",
          "data": {
            "text/plain": [
              "     ┌───┐ ░ ┌───┐          ┌───┐      ░ ┌───┐┌───┐          ┌───┐┌───┐      ░ »\n",
              "q_0: ┤ H ├─░─┤ X ├───────■──┤ X ├──────░─┤ H ├┤ X ├───────■──┤ X ├┤ H ├──────░─»\n",
              "     ├───┤ ░ └───┘       │  └───┘      ░ ├───┤├───┤       │  ├───┤├───┤      ░ »\n",
              "q_1: ┤ H ├─░─────────────■─────────────░─┤ H ├┤ X ├───────■──┤ X ├┤ H ├──────░─»\n",
              "     ├───┤ ░ ┌───┐┌───┐┌─┴─┐┌───┐┌───┐ ░ ├───┤├───┤┌───┐┌─┴─┐├───┤├───┤┌───┐ ░ »\n",
              "q_2: ┤ H ├─░─┤ X ├┤ H ├┤ X ├┤ H ├┤ X ├─░─┤ H ├┤ X ├┤ H ├┤ X ├┤ H ├┤ X ├┤ H ├─░─»\n",
              "     └───┘ ░ └───┘└───┘└───┘└───┘└───┘ ░ └───┘└───┘└───┘└───┘└───┘└───┘└───┘ ░ »\n",
              "c: 3/══════════════════════════════════════════════════════════════════════════»\n",
              "                                                                               »\n",
              "«     ┌─┐      \n",
              "«q_0: ┤M├──────\n",
              "«     └╥┘┌─┐   \n",
              "«q_1: ─╫─┤M├───\n",
              "«      ║ └╥┘┌─┐\n",
              "«q_2: ─╫──╫─┤M├\n",
              "«      ║  ║ └╥┘\n",
              "«c: 3/═╩══╩══╩═\n",
              "«      0  1  2 "
            ],
            "text/html": [
              "<pre style=\"word-wrap: normal;white-space: pre;background: #fff0;line-height: 1.1;font-family: &quot;Courier New&quot;,Courier,monospace\">     ┌───┐ ░ ┌───┐          ┌───┐      ░ ┌───┐┌───┐          ┌───┐┌───┐      ░ »\n",
              "q_0: ┤ H ├─░─┤ X ├───────■──┤ X ├──────░─┤ H ├┤ X ├───────■──┤ X ├┤ H ├──────░─»\n",
              "     ├───┤ ░ └───┘       │  └───┘      ░ ├───┤├───┤       │  ├───┤├───┤      ░ »\n",
              "q_1: ┤ H ├─░─────────────■─────────────░─┤ H ├┤ X ├───────■──┤ X ├┤ H ├──────░─»\n",
              "     ├───┤ ░ ┌───┐┌───┐┌─┴─┐┌───┐┌───┐ ░ ├───┤├───┤┌───┐┌─┴─┐├───┤├───┤┌───┐ ░ »\n",
              "q_2: ┤ H ├─░─┤ X ├┤ H ├┤ X ├┤ H ├┤ X ├─░─┤ H ├┤ X ├┤ H ├┤ X ├┤ H ├┤ X ├┤ H ├─░─»\n",
              "     └───┘ ░ └───┘└───┘└───┘└───┘└───┘ ░ └───┘└───┘└───┘└───┘└───┘└───┘└───┘ ░ »\n",
              "c: 3/══════════════════════════════════════════════════════════════════════════»\n",
              "                                                                               »\n",
              "«     ┌─┐      \n",
              "«q_0: ┤M├──────\n",
              "«     └╥┘┌─┐   \n",
              "«q_1: ─╫─┤M├───\n",
              "«      ║ └╥┘┌─┐\n",
              "«q_2: ─╫──╫─┤M├\n",
              "«      ║  ║ └╥┘\n",
              "«c: 3/═╩══╩══╩═\n",
              "«      0  1  2 </pre>"
            ]
          },
          "metadata": {},
          "execution_count": 14
        }
      ]
    },
    {
      "cell_type": "code",
      "source": [
        "# Choose actual hardware backend\n",
        "hardware_backend = service.backend(\"ibm_brisbane\")\n",
        "print(\"Running on:\", hardware_backend.name)\n",
        "\n",
        "# Step 4: Run using Qiskit Runtime Sampler\n",
        "sampler = Sampler(hardware_backend)\n",
        "\n",
        "# Execute and time the job\n",
        "start_time = time.time()\n",
        "job = sampler.run([grover_compiled], shots=1024)\n",
        "result = job.result()\n",
        "end_time = time.time()\n",
        "\n",
        "# Extract and print result\n",
        "counts = result[0].data.c.get_counts()\n",
        "minutes, seconds = divmod(end_time - start_time, 60)\n",
        "print(\"Counts:\", counts)\n",
        "print(\"Time: {} minutes {:.2f} seconds\".format(int(minutes), seconds))"
      ],
      "metadata": {
        "colab": {
          "base_uri": "https://localhost:8080/"
        },
        "id": "E3ytgsy3t5TX",
        "outputId": "a4f2e811-762e-49ac-d260-060f6a1e3d6a"
      },
      "execution_count": null,
      "outputs": [
        {
          "output_type": "stream",
          "name": "stdout",
          "text": [
            "Running on: ibm_brisbane\n",
            "Counts: {'001': 104, '010': 289, '100': 101, '101': 83, '011': 122, '111': 103, '000': 135, '110': 87}\n",
            "Time: 0 minutes 10.90 seconds\n"
          ]
        }
      ]
    },
    {
      "cell_type": "markdown",
      "source": [
        "The noise is clearly visible which is causing the issues in result"
      ],
      "metadata": {
        "id": "LwFgYEw4g-if"
      }
    },
    {
      "cell_type": "markdown",
      "source": [
        "***References***\n",
        "\n",
        "\n",
        "*   IBM qiskit textbook\n",
        "*   Qiskit community tutorials ( https://github.com/qiskit-community/qiskit-community-tutorials/tree/master )\n",
        "\n"
      ],
      "metadata": {
        "id": "jcN9ihPQhNx5"
      }
    }
  ]
}