{
 "cells": [
  {
   "cell_type": "markdown",
   "id": "a3149d98",
   "metadata": {},
   "source": [
    "# Modular Exponentiation Performance in Shor's Algorithm"
   ]
  },
  {
   "cell_type": "markdown",
   "id": "1336b440",
   "metadata": {},
   "source": [
    "This notebook compares the execution time of **Toffoli gates**-based and **discrete Fourier transform**-based _modular exponentiation_ within Shor's Algorithm and computes the speedup factor."
   ]
  },
  {
   "cell_type": "markdown",
   "id": "2e5d9d35",
   "metadata": {},
   "source": [
    "## 🚀 Install and Import Libraries"
   ]
  },
  {
   "cell_type": "markdown",
   "id": "beb2518d",
   "metadata": {},
   "source": [
    "Install and import the required **Python** packages:\n",
    "- `NumPy` for numerical operations\n",
    "- `Matplotlib` for plotting"
   ]
  },
  {
   "cell_type": "code",
   "execution_count": null,
   "id": "dfa01195",
   "metadata": {},
   "outputs": [],
   "source": [
    "!pip install numpy==2.2.5\n",
    "!pip install matplotlib==3.10.3"
   ]
  },
  {
   "cell_type": "code",
   "execution_count": null,
   "id": "59834e49",
   "metadata": {},
   "outputs": [],
   "source": [
    "import numpy as np\n",
    "import matplotlib.pyplot as plt"
   ]
  },
  {
   "cell_type": "markdown",
   "id": "e847cd0d",
   "metadata": {},
   "source": [
    "## 📦 Input Execution Time Data"
   ]
  },
  {
   "cell_type": "markdown",
   "id": "edf6b534",
   "metadata": {},
   "source": [
    "Input the measured execution times (`mean`, `min`, `max`) for both methods."
   ]
  },
  {
   "cell_type": "code",
   "execution_count": null,
   "id": "cee93a19",
   "metadata": {},
   "outputs": [],
   "source": [
    "# Toffoli gate-based execution times (in seconds)\n",
    "toffoli_mean    = np.array([5.7847,     129.9495])\n",
    "toffoli_min     = np.array([1.4009,     33.5786])\n",
    "toffoli_max     = np.array([40.7476,    497.1922])"
   ]
  },
  {
   "cell_type": "code",
   "execution_count": null,
   "id": "5243f51a",
   "metadata": {},
   "outputs": [],
   "source": [
    "# Discrete Fourier transform execution times (in seconds)\n",
    "dft_mean        = np.array([1.503,      11.4475])\n",
    "dft_min         = np.array([1.131,      6.5593])\n",
    "dft_max         = np.array([2.4428,     20.146])"
   ]
  },
  {
   "cell_type": "code",
   "execution_count": null,
   "id": "20adeadb",
   "metadata": {},
   "outputs": [],
   "source": [
    "# Labels for the x-axis\n",
    "labels = [r\"$N=15,\\ A=7$\", r\"$N=21,\\ A=13$\"]\n",
    "x = np.arange(len(labels))"
   ]
  },
  {
   "cell_type": "markdown",
   "id": "72c830fd",
   "metadata": {},
   "source": [
    "## 📊 Plot Execution Time Comparison"
   ]
  },
  {
   "cell_type": "code",
   "execution_count": null,
   "id": "447a215c",
   "metadata": {},
   "outputs": [],
   "source": [
    "# Create the figure\n",
    "fig, ax = plt.subplots(figsize=(10, 6))\n",
    "\n",
    "# Plot the Toffoli gate mean execution time\n",
    "l1, = ax.plot(x, toffoli_mean,\n",
    "              marker    = 'o',  markersize   = 8,\n",
    "              linestyle = '-',  linewidth    = 2,\n",
    "              label     = 'Toffoli Gates')\n",
    "\n",
    "# Annotate the mean values for Toffoli gates\n",
    "for xi, y in zip(x, toffoli_mean):\n",
    "    ax.annotate(f\"{y:.2f}\",\n",
    "                xy = (xi, y),\n",
    "                xytext = (0, 8),\n",
    "                textcoords = 'offset points',\n",
    "                ha = 'center')\n",
    "\n",
    "# Plot the discrete Fourier transform mean execution time\n",
    "l2, = ax.plot(x, dft_mean,\n",
    "              marker    = 's',  markersize  = 8,\n",
    "              linestyle = '--', linewidth   = 2,\n",
    "              label     = 'Discrete Fourier Transform')\n",
    "\n",
    "# Annotate the mean values for DFT\n",
    "for xi, y in zip(x, dft_mean):\n",
    "    ax.annotate(f\"{y:.2f}\",\n",
    "                xy = (xi, y),\n",
    "                textcoords = 'offset points',\n",
    "                xytext = (0, -12),\n",
    "                ha = 'center')\n",
    "\n",
    "\n",
    "# Fill in the area between min and max values\n",
    "\n",
    "ax.fill_between(x, toffoli_min, toffoli_max,\n",
    "                where = ~np.isnan(toffoli_mean),\n",
    "                color = l1.get_color(),\n",
    "                alpha = 0.3,\n",
    "                label = 'Toffoli: min-max')\n",
    "\n",
    "ax.fill_between(x, dft_min, dft_max,\n",
    "                where = ~np.isnan(dft_mean),\n",
    "                color = l2.get_color(),\n",
    "                alpha = 0.3,\n",
    "                label = 'DFT: min-max')\n",
    "\n",
    "# Axis formatting\n",
    "\n",
    "ax.set_xticks(x)\n",
    "ax.set_xticklabels(labels)\n",
    "ax.set_xlabel('Integer $N$ to factorise and initial guess $A$')\n",
    "ax.set_ylabel('Execution time (seconds)')\n",
    "ax.set_title(\"Modular Exponentiation Performance in Shor's Algorithm ($100$ Attempts)\")\n",
    "\n",
    "# Create a secondary y-axis to display the speedup factor\n",
    "\n",
    "speedup = toffoli_mean / dft_mean\n",
    "\n",
    "ax2 = ax.twinx()\n",
    "l3, = ax2.plot(x, speedup,\n",
    "              marker    = '',  markersize  = 8,\n",
    "              linestyle = ':',  linewidth  = 2,\n",
    "              color     = 'green',\n",
    "              label     = 'Speedup (Toffoli / DFT)')\n",
    "ax2.set_ylabel('Speedup Factor')\n",
    "\n",
    "# Grid lines and legend\n",
    "ax.grid(True, which = 'both', linestyle = '--', linewidth = 0.5, alpha = 0.7)\n",
    "ax.legend(loc = 'upper left', frameon = True)\n",
    "ax2.legend(loc = 'upper right', frameon = True)\n",
    "\n",
    "# Save the figure in SVG format with high resolution\n",
    "plt.tight_layout()\n",
    "plt.savefig('modexp_comparison.svg', format = 'svg', dpi = 1200)\n",
    "plt.show()"
   ]
  }
 ],
 "metadata": {
  "kernelspec": {
   "display_name": "base",
   "language": "python",
   "name": "python3"
  },
  "language_info": {
   "codemirror_mode": {
    "name": "ipython",
    "version": 3
   },
   "file_extension": ".py",
   "mimetype": "text/x-python",
   "name": "python",
   "nbconvert_exporter": "python",
   "pygments_lexer": "ipython3",
   "version": "3.12.2"
  }
 },
 "nbformat": 4,
 "nbformat_minor": 5
}
