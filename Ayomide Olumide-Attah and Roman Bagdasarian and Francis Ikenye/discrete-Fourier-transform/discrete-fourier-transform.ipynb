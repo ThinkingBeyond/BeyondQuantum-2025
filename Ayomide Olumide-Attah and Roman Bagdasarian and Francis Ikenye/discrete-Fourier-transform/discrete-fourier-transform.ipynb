{
 "cells": [
  {
   "cell_type": "markdown",
   "id": "c0305f44",
   "metadata": {},
   "source": [
    "![BeyondQuantum Banner](BeyondQuantum_Banner_Research_Projects_2025.png)"
   ]
  },
  {
   "cell_type": "markdown",
   "id": "5ab62335",
   "metadata": {},
   "source": [
    "# Discrete Fourier Transform-based Quantum Circuit for Modular Exponentiation in Shor's Algorithm"
   ]
  },
  {
   "cell_type": "markdown",
   "id": "2f2a10b4",
   "metadata": {},
   "source": [
    "This notebook implements the discrete Fourier transform-based modular multiplication circuit from Patoery et. *al.* (2025) for Shor's algorithm."
   ]
  },
  {
   "cell_type": "markdown",
   "id": "0b3d71cb",
   "metadata": {},
   "source": [
    "**Author**: Roman Bagdasarian\n",
    "\n",
    "**Date**: May 27th, 2025\n",
    "\n",
    "*Supported by [BlueQubit](https://www.bluequbit.io), a Quantum Software founded by Hayk Tepanyan and Hrant Gharibyan in the Bay Area.*"
   ]
  },
  {
   "cell_type": "markdown",
   "id": "74a0a85d",
   "metadata": {},
   "source": [
    "## 🚀 Environment Setup"
   ]
  },
  {
   "cell_type": "markdown",
   "id": "f34b8e24",
   "metadata": {},
   "source": [
    "Install or upgrade dependencies:"
   ]
  },
  {
   "cell_type": "code",
   "execution_count": null,
   "id": "8314ffa1",
   "metadata": {},
   "outputs": [],
   "source": [
    "# Upgrade pip to the latest version\n",
    "!pip install --upgrade pip\n",
    "\n",
    "# Install Qiskit 2.0.0\n",
    "!pip install qiskit==2.0.0\n",
    "\n",
    "# Install the BlueQubit Software Development Kit\n",
    "!pip install bluequbit==0.13.0b1\n"
   ]
  },
  {
   "cell_type": "markdown",
   "id": "e486c931",
   "metadata": {},
   "source": [
    "### 📦 Import Modules"
   ]
  },
  {
   "cell_type": "code",
   "execution_count": null,
   "id": "5d6e412d",
   "metadata": {},
   "outputs": [],
   "source": [
    "# Qiskit\n",
    "import qiskit\n",
    "from qiskit                 import QuantumRegister, ClassicalRegister, QuantumCircuit, transpile\n",
    "from qiskit.circuit.library import QFT, CHGate\n",
    "\n",
    "# BlueQubit Software Development Kit\n",
    "import bluequbit\n",
    "\n",
    "# NumPy\n",
    "import numpy                as np\n",
    "\n",
    "# Matplotlib\n",
    "import matplotlib.pyplot    as plt\n",
    "\n",
    "# Mathematics\n",
    "import math\n",
    "from math       import gcd, ceil, log2\n",
    "from fractions  import Fraction"
   ]
  },
  {
   "cell_type": "markdown",
   "id": "d7f25783",
   "metadata": {},
   "source": [
    "## Discrete Fourier Transform-based Modular Multiplication Circuit"
   ]
  },
  {
   "cell_type": "markdown",
   "id": "85e92752",
   "metadata": {},
   "source": [
    "The **governing equation** of the **modular multiplication** operator is\n",
    "$$\n",
    "[U_A]_{nm} = \\frac{1}{N} \\sum_{k=0}^{N-1} \\mathrm{e}^{\\frac{2\\pi i k (n - A m)}{N}} \\;\\equiv\\; [F_N^{-1}G_N]_{nm} \\tag{4}\n",
    "$$\n",
    "where the *discrete Fourier matrix* is\n",
    "$$\n",
    "[F_N]_{nm} = \\frac{1}{\\sqrt{N}} \\mathrm{e}^{-\\frac{2\\pi i n m}{N}} \\tag{5}\n",
    "$$\n",
    "and the *A-scaled* discrete Fourier matrix is\n",
    "$$\n",
    "[G_N]_{nm} = \\frac{1}{\\sqrt{N}} \\mathrm{e}^{-\\frac{2\\pi i A n m}{N}} \\tag{6}\n",
    "$$"
   ]
  },
  {
   "cell_type": "markdown",
   "id": "380705a1",
   "metadata": {},
   "source": [
    "### Algorithm Outline"
   ]
  },
  {
   "cell_type": "markdown",
   "id": "ebd777b4",
   "metadata": {},
   "source": [
    "1. **$S$ gate**\n",
    "\n",
    "Ancilla preparation in the equal superposition\n",
    "$$\n",
    "\\lvert\\Psi_N\\rangle = \\frac{1}{\\sqrt{N}}\\sum_{l=0}^{N-1}\\lvert l\\rangle \\tag{8}\n",
    "$$\n",
    "via recursive single-qubit rotations.\n",
    "\n",
    "2. **$V_A$ gate**\n",
    "\n",
    "Controlled two-register phase\n",
    "$$\n",
    "V_a|m\\rangle_1|n\\rangle_2 \\mapsto |m\\rangle_1 e^{\\frac{2\\pi iAmn}{N}}|n\\rangle_2 \\tag{7}\n",
    "$$\n",
    "\n",
    "3. **$K_G$ operator**\n",
    "\n",
    "Reset ancilla:\n",
    "- Inverse A-scaled discrete Fourier transform $F_A^\\dagger$\n",
    "- Controlled shifts $W^{2^k}$\n",
    "- Hadamard gates on phase qubits\n",
    "- Swap phase and data registers\n",
    "\n",
    "4. **$S$ gate**\n",
    "\n",
    "Re-prepare $\\lvert\\Psi_N\\rangle$ (Eq. 7).\n",
    "\n",
    "5. **$V_1$ gate**\n",
    "\n",
    "$V_A$ gate with $A = 1$ to implement $F_N^{-1}$\n",
    "\n",
    "6. **Operator $K_F$**\n",
    "\n",
    "Reset via $F_2^L{}^\\dagger$, controlled shifts $W^{2^k}$, and swap."
   ]
  },
  {
   "cell_type": "markdown",
   "id": "0bfb5ae8",
   "metadata": {},
   "source": [
    "The combined sequence\n",
    "$$\n",
    "\\lvert m\\rangle\\lvert 0\\rangle\n",
    "\\;\\xrightarrow{S\\to V_A\\to K_G\\to S\\to V_1\\to K_F}\\;\n",
    "\\lvert mA\\bmod N\\rangle\\lvert 0\\rangle\n",
    "$$\n",
    "implements the modular multiplication operator\n",
    "$$\n",
    "[U_A]_{nm} \\;\\equiv\\; [F_N^{-1}G_N]_{nm} \\tag{4}\n",
    "$$"
   ]
  },
  {
   "cell_type": "markdown",
   "id": "e0028049",
   "metadata": {},
   "source": [
    "#### S gate"
   ]
  },
  {
   "cell_type": "markdown",
   "id": "d3e76d14",
   "metadata": {},
   "source": [
    "Ancilla preparation in the equal superposition state\n",
    "$$\n",
    "|Ψ_N\\rangle = \\frac1{\\sqrt N}\\sum_{m=0}^{N-1}|l⟩\n",
    "$$\n",
    "on an L-qubit register `reg` initialized to $\\lvert0\\rangle_L$.  \n"
   ]
  },
  {
   "cell_type": "code",
   "execution_count": null,
   "id": "7f0e6d1d",
   "metadata": {},
   "outputs": [],
   "source": [
    "def S(qc: QuantumCircuit,\n",
    "      reg: QuantumRegister,\n",
    "      N: int\n",
    ") -> None:\n",
    "    L = len(reg)\n",
    "    N_bar = N\n",
    "    # Big-endian bit list of N\n",
    "    bits = list(map(int, format(N, f'0{L}b')))\n",
    "    for i in range(L):\n",
    "        if bits[i] == 1:\n",
    "            theta = np.arctan(np.sqrt(N_bar / 2**(L - i  -1) - 1))\n",
    "            qc.ry(2 * theta, reg[i])\n",
    "            for j in range(i + 1, L):\n",
    "                qc.x(reg[i])\n",
    "                qc.append(CHGate(), [reg[i], reg[j]])\n",
    "                qc.x(reg[i])\n",
    "            N_bar -= 2**(L - i - 1)"
   ]
  },
  {
   "cell_type": "markdown",
   "id": "f0c88051",
   "metadata": {},
   "source": [
    "#### $V_A$ gate"
   ]
  },
  {
   "cell_type": "markdown",
   "id": "82c838d4",
   "metadata": {},
   "source": [
    "Two-register phase\n",
    "$$\n",
    "V_a|m\\rangle_1|n\\rangle_2 \\mapsto |m\\rangle_1 e^{\\frac{2\\pi iAmn}{N}}|n\\rangle_2 \\tag{9}\n",
    "$$\n",
    "implements (Eq. 6)."
   ]
  },
  {
   "cell_type": "code",
   "execution_count": null,
   "id": "3a20de5f",
   "metadata": {},
   "outputs": [],
   "source": [
    "def V(qc: QuantumCircuit,\n",
    "      reg_m: QuantumRegister,\n",
    "      reg_n: QuantumRegister,\n",
    "      A: int,\n",
    "      N: int\n",
    ")-> None:\n",
    "    L = len(reg_m)\n",
    "    # For each bit k of m and bit j of n add a controlled phase gate\n",
    "    for k in range(L):\n",
    "        for j in range(L):\n",
    "            phi = 2 * np.pi * A * 2**(k + j) / N\n",
    "            qc.cp(phi, reg_m[k], reg_n[j])"
   ]
  },
  {
   "cell_type": "markdown",
   "id": "f2d2e9e7",
   "metadata": {},
   "source": [
    "#### $F_A$ gate"
   ]
  },
  {
   "cell_type": "markdown",
   "id": "0932c595",
   "metadata": {},
   "source": [
    "A-scaled DFT operator on $L$ qubits\n",
    "$$\n",
    "F_2^L|k⟩ \\mapsto \\frac1{\\sqrt{2^L}}\\sum_{\\ell=0}^{2^L - 1} e^{\\frac{-2\\pi i A k\\ell}{2^L}}|\\ell⟩ \\tag{13}\n",
    "$$"
   ]
  },
  {
   "cell_type": "code",
   "execution_count": null,
   "id": "803e64d3",
   "metadata": {},
   "outputs": [],
   "source": [
    "def F(qc: QuantumCircuit,\n",
    "             reg: QuantumRegister,\n",
    "             A: int) -> None:\n",
    "    L = len(reg)\n",
    "    for i in range(L):\n",
    "        qc.h(reg[i])\n",
    "        for j in range(i + 1, L): \n",
    "            angle = 2 * np.pi * A / 2**(j - i + 1)\n",
    "            qc.cp(-angle, reg[j], reg[i])\n",
    "    for i in range(L // 2):\n",
    "        qc.swap(reg[i], reg[L - 1 - i])"
   ]
  },
  {
   "cell_type": "markdown",
   "id": "8fb18904",
   "metadata": {},
   "source": [
    "#### $F_A^\\dagger$ gate"
   ]
  },
  {
   "cell_type": "markdown",
   "id": "b06e2264",
   "metadata": {},
   "source": [
    "Hermitian adjoint of `F` (inverse A-scaled DFT)."
   ]
  },
  {
   "cell_type": "code",
   "execution_count": null,
   "id": "684990d1",
   "metadata": {},
   "outputs": [],
   "source": [
    "def IF(qc: QuantumCircuit,\n",
    "       reg: QuantumRegister,\n",
    "       A: int\n",
    ") -> None:\n",
    "    L = len(reg)\n",
    "    # Undo the bit-reversal swap\n",
    "    for i in range(L // 2):\n",
    "        qc.swap(reg[i], reg[L - 1 - i])\n",
    "    # Reverse the controlled phase rotations\n",
    "    for i in range(L - 1, -1, -1):\n",
    "        for j in range(i + 1, L):\n",
    "            angle = 2 * np.pi * A / 2**(j - i + 1)\n",
    "            qc.cp(angle, reg[j], reg[i])\n",
    "        qc.h(reg[i])"
   ]
  },
  {
   "cell_type": "markdown",
   "id": "791de37c",
   "metadata": {},
   "source": [
    "#### Controlled-$W^{2^k}$ gate"
   ]
  },
  {
   "cell_type": "markdown",
   "id": "92aab3d1",
   "metadata": {},
   "source": [
    "Cyclic increment\n",
    "$$\n",
    "|x⟩\\mapsto |x+2^k \\bmod 2^L⟩\n",
    "$$\n",
    "via QFT for each `k` under control qubit `ctrl`."
   ]
  },
  {
   "cell_type": "code",
   "execution_count": null,
   "id": "9e0d7cfc",
   "metadata": {},
   "outputs": [],
   "source": [
    "def W(qc: QuantumCircuit,\n",
    "      ctrl, # Control qubit\n",
    "      target: QuantumRegister\n",
    ") -> None:\n",
    "    L = len(target)\n",
    "    for k in range(L):\n",
    "        qc.append(QFT(L, do_swaps=True).to_gate(label=\"QFT\"), target)\n",
    "        for j in range(L):\n",
    "            phi = 2 * np.pi * (2**k) * 2**j / (2**L)\n",
    "            qc.cp(phi, ctrl, target[j])\n",
    "        qc.append(QFT(L, inverse=True, do_swaps=True).to_gate(label=\"IQFT\"), target)"
   ]
  },
  {
   "cell_type": "markdown",
   "id": "b93b424b",
   "metadata": {},
   "source": [
    "#### $K_G$ operator"
   ]
  },
  {
   "cell_type": "markdown",
   "id": "6dbab3e0",
   "metadata": {},
   "source": [
    "Undo the phase estimation and reset phase register for cyclic permutation `W`."
   ]
  },
  {
   "cell_type": "code",
   "execution_count": null,
   "id": "ae10c19a",
   "metadata": {},
   "outputs": [],
   "source": [
    "def K(qc: QuantumCircuit,\n",
    "      reg_m: QuantumRegister,\n",
    "      reg_n: QuantumRegister,\n",
    "      A: int\n",
    ") -> None:\n",
    "    L = len(reg_m)\n",
    "    IF(qc, reg_m, A)\n",
    "    for k in range(L):\n",
    "        W(qc, reg_m[k], reg_n)\n",
    "    qc.h(reg_m)\n",
    "    for i in range(L):\n",
    "        qc.swap(reg_m[i], reg_n[i])"
   ]
  },
  {
   "cell_type": "markdown",
   "id": "7eae19e9",
   "metadata": {},
   "source": [
    "#### $U_A$ gate"
   ]
  },
  {
   "cell_type": "markdown",
   "id": "bb31d0ad",
   "metadata": {},
   "source": [
    "The modular multiplication gate\n",
    "$$\n",
    "|m⟩|0⟩ \\xrightarrow{U_A} |m⟩|mA \\bmod N⟩\n",
    "$$"
   ]
  },
  {
   "cell_type": "code",
   "execution_count": null,
   "id": "eedcaf7f",
   "metadata": {},
   "outputs": [],
   "source": [
    "def U(A: int,\n",
    "      N: int,\n",
    "      L: int\n",
    "): # -> Gate\n",
    "    m = QuantumRegister(L, name = 'm')\n",
    "    a = QuantumRegister(L, name = 'a')\n",
    "    qc = QuantumCircuit(m, a, name = f\"U\")\n",
    "\n",
    "    S(qc, a, N)\n",
    "    V(qc, m, a, A, N)\n",
    "    K(qc, m, a, A)\n",
    "    \n",
    "    S(qc, a, N)\n",
    "    V(qc, m, a, 1, N)\n",
    "    K(qc, m, a, 1)\n",
    "\n",
    "    return qc.to_gate()"
   ]
  },
  {
   "cell_type": "markdown",
   "id": "72a7eaa4",
   "metadata": {},
   "source": [
    "## Shor's Algorithm"
   ]
  },
  {
   "cell_type": "markdown",
   "id": "cbb968c3",
   "metadata": {},
   "source": [
    "Shor's algorithm finds the order $r$ of $A\\bmod N$ by applying Quantum Phase Estimation on `U`."
   ]
  },
  {
   "cell_type": "code",
   "execution_count": null,
   "id": "186b8ade",
   "metadata": {},
   "outputs": [],
   "source": [
    "def circuit(N: int,\n",
    "            A: int,\n",
    "            t: int\n",
    ") -> QuantumCircuit:\n",
    "    L = ceil(log2(N))\n",
    "\n",
    "    pe = QuantumRegister(t, 'pe')\n",
    "    m  = QuantumRegister(L, 'm')\n",
    "    n  = QuantumRegister(L, 'a')\n",
    "    c  = ClassicalRegister(t, 'c')\n",
    "\n",
    "    qc = QuantumCircuit(pe, m, n, c)\n",
    "    qc.h(pe)\n",
    "    qc.x(m[0])\n",
    "\n",
    "    for k in range(t):\n",
    "        A_pow = pow(A, 2**k, N)\n",
    "        UA = U(A_pow, N, L).control(1)\n",
    "        qc.append(UA, [pe[k]] + m[:] + n[:])\n",
    "        \n",
    "    qc.append(QFT(t, inverse=True, do_swaps=True).to_gate(label=\"IQFT\"), pe)\n",
    "    qc.measure(pe, c)\n",
    "    return qc"
   ]
  },
  {
   "cell_type": "markdown",
   "id": "40c4206e",
   "metadata": {},
   "source": [
    "### Order Extraction"
   ]
  },
  {
   "cell_type": "markdown",
   "id": "7ad6d17f",
   "metadata": {},
   "source": [
    "Convert the most frequent bitstring measurement outcome `k` into a fraction $\\frac{k}{2^t}\\approx \\frac{s}{r}$ and verify $A^r \\equiv 1 \\mod N$."
   ]
  },
  {
   "cell_type": "code",
   "execution_count": null,
   "id": "4cd0b9ce",
   "metadata": {},
   "outputs": [],
   "source": [
    "def order(counts: dict[str, int],\n",
    "                  t: int,\n",
    "                  N: int,\n",
    "                  A: int\n",
    ") -> int | None:\n",
    "    freq = sorted(\n",
    "        ((int(bs, 2), cnt) for bs, cnt in counts.items()),\n",
    "        key = lambda x: -x[1])\n",
    "    for k, _ in freq:\n",
    "        if k == 0:\n",
    "            continue\n",
    "        frac = Fraction(k, 2**t).limit_denominator(N)\n",
    "        r = frac.denominator\n",
    "        if r > 1 and pow(A, r, N) == 1:\n",
    "            return r\n",
    "    return None"
   ]
  },
  {
   "cell_type": "markdown",
   "id": "704895e7",
   "metadata": {},
   "source": [
    "### Run Shor's Algorithm"
   ]
  },
  {
   "cell_type": "markdown",
   "id": "0221e7b5",
   "metadata": {},
   "source": [
    "Sweep over increasing phase estimation register sizes `t` intil an even order `r` is found and compute nontrivial factors $\\gcd(A^{r/2}\\pm1, N)$."
   ]
  },
  {
   "cell_type": "markdown",
   "id": "0146af8f",
   "metadata": {},
   "source": [
    "Please obtain your API key from [BlueQubit](https://app.bluequbit.io)."
   ]
  },
  {
   "cell_type": "code",
   "execution_count": null,
   "id": "c0222f1a",
   "metadata": {},
   "outputs": [],
   "source": [
    "def shor(N: int,\n",
    "         A: int\n",
    ") -> tuple[int, int] | None:\n",
    "    for t in range(2, 2 * ceil(log2(N)) + 1):\n",
    "        qc = circuit(N, A, t)\n",
    "        bq = bluequbit.init(\"YOUR_TOKEN_HERE\")\n",
    "        result = bq.run(qc, device='cpu')\n",
    "        counts = result.get_counts()\n",
    "        r = order(counts, t, N, A)\n",
    "        if r and r % 2 == 0:\n",
    "            x = pow(A, r//2, N)\n",
    "            f1 = gcd(x - 1, N)\n",
    "            f2 = gcd(x + 1, N)\n",
    "            if 1 < f1 < N and 1 < f2 < N:\n",
    "                return f1, f2\n",
    "    return None"
   ]
  },
  {
   "cell_type": "markdown",
   "id": "bb704d48",
   "metadata": {},
   "source": [
    "### Example usage"
   ]
  },
  {
   "cell_type": "markdown",
   "id": "971646dd",
   "metadata": {},
   "source": [
    "*Note*: A-scaled DFT operator\n",
    " $$\n",
    " F^A_{2^L}|k\\rangle\\;=\\;\\frac{1}{\\sqrt{2^L}}\\sum_{\\ell=0}^{2^L-1}e^{\\frac{-2\\pi i\\,A k\\ell}{2^L}}\\lvert\\ell\\rangle\n",
    " $$\n",
    "is **unitary** only when `A` is **odd**."
   ]
  },
  {
   "cell_type": "code",
   "execution_count": null,
   "id": "b0abe726",
   "metadata": {},
   "outputs": [],
   "source": [
    "if __name__ == \"__main__\":\n",
    "    N, A = 15, 7\n",
    "    print(f\"Factoring N = {N} with A = {A}\")\n",
    "    result = shor(N, A)\n",
    "    if result:\n",
    "        print(f\"✅️ Success: {N} = {result[0]} * {result[1]}\")\n",
    "    else:\n",
    "        print(\"❌ Failed: try different A or larger t\")\n"
   ]
  },
  {
   "cell_type": "markdown",
   "id": "fe48e568",
   "metadata": {},
   "source": [
    "## 📚 References"
   ]
  },
  {
   "cell_type": "markdown",
   "id": "9a6acdfe",
   "metadata": {},
   "source": [
    "1. A. M. Patoary, A. Vikram, and V. Galitski, “A discrete Fourier transform based quantum circuit for modular multiplication in Shor’s algorithm,” Mar. 20, 2025, arXiv: arXiv:2503.10008. doi: 10.48550/arXiv.2503.10008.\n",
    "\n",
    "2. P. W. Shor, “Algorithms for quantum computation: discrete logarithms and factoring,” in Proceedings 35th Annual Symposium on Foundations of Computer Science, Santa Fe, NM, USA: IEEE Comput. Soc. Press, 1994, pp. 124–134. doi: 10.1109/SFCS.1994.365700."
   ]
  }
 ],
 "metadata": {
  "kernelspec": {
   "display_name": "base",
   "language": "python",
   "name": "python3"
  },
  "language_info": {
   "codemirror_mode": {
    "name": "ipython",
    "version": 3
   },
   "file_extension": ".py",
   "mimetype": "text/x-python",
   "name": "python",
   "nbconvert_exporter": "python",
   "pygments_lexer": "ipython3",
   "version": "3.12.2"
  }
 },
 "nbformat": 4,
 "nbformat_minor": 5
}
