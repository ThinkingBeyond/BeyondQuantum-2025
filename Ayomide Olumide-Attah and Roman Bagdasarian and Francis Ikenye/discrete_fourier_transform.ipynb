{
 "cells": [
  {
   "cell_type": "markdown",
   "metadata": {},
   "source": [
    "## 🚀 Installation\n",
    "Install the required packages running the commands below:"
   ]
  },
  {
   "cell_type": "markdown",
   "id": "807d8a86",
   "metadata": {},
   "source": [
    "# TO=DO: VERSION CONTROL"
   ]
  },
  {
   "cell_type": "code",
   "execution_count": null,
   "metadata": {},
   "outputs": [],
   "source": [
    "# Upgrade pip to the latest version\n",
    "!pip install --upgrade pip\n",
    "\n",
    "# Install the latest version of Qiskit\n",
    "!pip install qiskit\n",
    "\n",
    "# Install Qiskit Aer Simulator\n",
    "!pip install qiskit-aer\n",
    "\n",
    "# Install BlueQubit Software Development Kit\n",
    "!pip install bluequbit\n",
    "\n",
    "# Install NumPy and Matplotlib\n",
    "!pip install numpy\n",
    "!pip install matplotlib\n",
    "\n",
    "# Install LaTeX\n",
    "!pip install pylatexenc"
   ]
  },
  {
   "cell_type": "markdown",
   "metadata": {},
   "source": [
    "## 📦 Import Modules\n",
    "All necessary libraries are imported and grouped by purpose:"
   ]
  },
  {
   "cell_type": "code",
   "execution_count": null,
   "metadata": {},
   "outputs": [],
   "source": [
    "# Qiskit\n",
    "import qiskit\n",
    "print(qiskit.__version__)\n",
    "from qiskit                             import QuantumRegister, ClassicalRegister, QuantumCircuit, transpile\n",
    "from qiskit.circuit.library             import QFT, CHGate, UnitaryGate\n",
    "from qiskit.qasm2                       import dump\n",
    "\n",
    "# Simulators\n",
    "from qiskit.providers.basic_provider    import BasicProvider\n",
    "from qiskit_aer.primitives              import Sampler\n",
    "from qiskit_aer                         import AerSimulator\n",
    "\n",
    "# Visualizations\n",
    "from qiskit.visualization               import plot_histogram, circuit_drawer\n",
    "from qiskit.quantum_info                import Statevector\n",
    "\n",
    "# BlueQubit\n",
    "import bluequbit\n",
    "\n",
    "# NumPy\n",
    "import numpy                as np\n",
    "import matplotlib.pyplot    as plt\n",
    "\n",
    "# Mathematics\n",
    "import math\n",
    "from math       import gcd, ceil, log2\n",
    "from fractions  import Fraction"
   ]
  },
  {
   "cell_type": "markdown",
   "metadata": {},
   "source": [
    "## Shor's Algorithm"
   ]
  },
  {
   "cell_type": "markdown",
   "metadata": {},
   "source": [
    "### 📊 Benchmarking"
   ]
  },
  {
   "cell_type": "markdown",
   "metadata": {},
   "source": [
    "#### Qubits and Gates\n",
    "Use the following metrics to analyze the complexity and structure of your quantum circuit"
   ]
  },
  {
   "cell_type": "code",
   "execution_count": null,
   "metadata": {},
   "outputs": [],
   "source": [
    "%matplotlib inline\n",
    "def circuit_metrics(qc):\n",
    "    two_qubit_gates = 0\n",
    "    \n",
    "    for instr in qc.data:\n",
    "        if len(instr.qubits) == 2:\n",
    "            two_qubit_gates += 1\n",
    " \n",
    "    num_qubits      = qc.num_qubits\n",
    "    num_clbits      = qc.num_clbits\n",
    "    depth           = qc.depth()\n",
    "    width           = qc.width()\n",
    "    size            = qc.size()\n",
    "    count_ops       = qc.count_ops()\n",
    "    num_parameters  = qc.num_parameters\n",
    "\n",
    "    print(f\"Number of two-qubits gates  : {two_qubit_gates}\")\n",
    "    print(f\"Number of qubits            : {num_qubits}\")\n",
    "    print(f\"Circuit depth               : {depth}\")\n",
    "    print(f\"Circuit width               : {width}\")\n",
    "    print(f\"Total number of gates       : {size}\")\n",
    "    print(f\"Gate type breakdown         : {count_ops}\")\n",
    "    print(f\"Number of parameters        : {num_parameters}\")\n",
    "\n",
    "    circuit_drawer(qc, output='mpl')\n",
    "\n",
    "    return {\n",
    "        'two_qubit_gates':  two_qubit_gates,\n",
    "        'num_qubits':       num_qubits,\n",
    "        'depth':            depth,\n",
    "        'width':            width,\n",
    "        'total_gates':      size,\n",
    "        'count_ops':        count_ops,\n",
    "        'num_parameters':   num_parameters\n",
    "    }"
   ]
  },
  {
   "cell_type": "markdown",
   "metadata": {},
   "source": [
    "### Error Rate\n",
    "Evaluate the failure rate of Shor's algorithm:"
   ]
  },
  {
   "cell_type": "markdown",
   "metadata": {},
   "source": [
    "## 🧪 Simulations"
   ]
  },
  {
   "cell_type": "code",
   "execution_count": null,
   "id": "fdd54d25",
   "metadata": {},
   "outputs": [],
   "source": [
    "bq = bluequbit.init(\"YOUR_TOKEN_HERE\")\n",
    "result = bq.run(qc_qiskit, device='cpu')"
   ]
  },
  {
   "cell_type": "markdown",
   "metadata": {},
   "source": [
    "## 🔄 Memory Cleanup\n",
    "To avoid memory bloat and free up resources, we delete intermediate variales that are no longer in need. This is especially helpful when running memory-intensive models or when working in constrained environments like Colab:"
   ]
  },
  {
   "cell_type": "code",
   "execution_count": null,
   "metadata": {},
   "outputs": [],
   "source": [
    "# del"
   ]
  }
 ],
 "metadata": {
  "kernelspec": {
   "display_name": "base",
   "language": "python",
   "name": "python3"
  },
  "language_info": {
   "name": "python",
   "version": "3.12.2"
  }
 },
 "nbformat": 4,
 "nbformat_minor": 5
}
