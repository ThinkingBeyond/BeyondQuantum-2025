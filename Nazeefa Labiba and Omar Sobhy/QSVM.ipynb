{
  "cells": [
    {
      "cell_type": "code",
      "execution_count": null,
      "metadata": {
        "id": "Mc2DOOAoInlI",
        "colab": {
          "base_uri": "https://localhost:8080/"
        },
        "outputId": "e643d957-5af0-481a-9a19-c10a5ac18106"
      },
      "outputs": [
        {
          "output_type": "stream",
          "name": "stdout",
          "text": [
            "Requirement already satisfied: pennylane in /usr/local/lib/python3.11/dist-packages (0.41.1)\n",
            "Requirement already satisfied: numpy in /usr/local/lib/python3.11/dist-packages (from pennylane) (2.0.2)\n",
            "Requirement already satisfied: scipy in /usr/local/lib/python3.11/dist-packages (from pennylane) (1.15.3)\n",
            "Requirement already satisfied: networkx in /usr/local/lib/python3.11/dist-packages (from pennylane) (3.4.2)\n",
            "Requirement already satisfied: rustworkx>=0.14.0 in /usr/local/lib/python3.11/dist-packages (from pennylane) (0.16.0)\n",
            "Requirement already satisfied: autograd in /usr/local/lib/python3.11/dist-packages (from pennylane) (1.8.0)\n",
            "Requirement already satisfied: tomlkit in /usr/local/lib/python3.11/dist-packages (from pennylane) (0.13.2)\n",
            "Requirement already satisfied: appdirs in /usr/local/lib/python3.11/dist-packages (from pennylane) (1.4.4)\n",
            "Requirement already satisfied: autoray>=0.6.11 in /usr/local/lib/python3.11/dist-packages (from pennylane) (0.7.1)\n",
            "Requirement already satisfied: cachetools in /usr/local/lib/python3.11/dist-packages (from pennylane) (5.5.2)\n",
            "Requirement already satisfied: pennylane-lightning>=0.41 in /usr/local/lib/python3.11/dist-packages (from pennylane) (0.41.1)\n",
            "Requirement already satisfied: requests in /usr/local/lib/python3.11/dist-packages (from pennylane) (2.32.3)\n",
            "Requirement already satisfied: typing-extensions in /usr/local/lib/python3.11/dist-packages (from pennylane) (4.13.2)\n",
            "Requirement already satisfied: packaging in /usr/local/lib/python3.11/dist-packages (from pennylane) (24.2)\n",
            "Requirement already satisfied: diastatic-malt in /usr/local/lib/python3.11/dist-packages (from pennylane) (2.15.2)\n",
            "Requirement already satisfied: scipy-openblas32>=0.3.26 in /usr/local/lib/python3.11/dist-packages (from pennylane-lightning>=0.41->pennylane) (0.3.29.265.0)\n",
            "Requirement already satisfied: astunparse in /usr/local/lib/python3.11/dist-packages (from diastatic-malt->pennylane) (1.6.3)\n",
            "Requirement already satisfied: gast in /usr/local/lib/python3.11/dist-packages (from diastatic-malt->pennylane) (0.6.0)\n",
            "Requirement already satisfied: termcolor in /usr/local/lib/python3.11/dist-packages (from diastatic-malt->pennylane) (3.1.0)\n",
            "Requirement already satisfied: charset-normalizer<4,>=2 in /usr/local/lib/python3.11/dist-packages (from requests->pennylane) (3.4.2)\n",
            "Requirement already satisfied: idna<4,>=2.5 in /usr/local/lib/python3.11/dist-packages (from requests->pennylane) (3.10)\n",
            "Requirement already satisfied: urllib3<3,>=1.21.1 in /usr/local/lib/python3.11/dist-packages (from requests->pennylane) (2.4.0)\n",
            "Requirement already satisfied: certifi>=2017.4.17 in /usr/local/lib/python3.11/dist-packages (from requests->pennylane) (2025.4.26)\n",
            "Requirement already satisfied: wheel<1.0,>=0.23.0 in /usr/local/lib/python3.11/dist-packages (from astunparse->diastatic-malt->pennylane) (0.45.1)\n",
            "Requirement already satisfied: six<2.0,>=1.6.1 in /usr/local/lib/python3.11/dist-packages (from astunparse->diastatic-malt->pennylane) (1.17.0)\n"
          ]
        }
      ],
      "source": [
        "!pip install pennylane"
      ]
    },
    {
      "cell_type": "markdown",
      "metadata": {
        "id": "XGSlFREpI9dd"
      },
      "source": [
        "Imports"
      ]
    },
    {
      "cell_type": "code",
      "execution_count": null,
      "metadata": {
        "id": "lsUZ6KPMI_-m"
      },
      "outputs": [],
      "source": [
        "import numpy as np\n",
        "import pennylane as qml\n",
        "\n",
        "from sklearn.datasets import load_iris\n",
        "from sklearn.preprocessing import MaxAbsScaler\n",
        "from sklearn.model_selection import train_test_split\n",
        "from sklearn.svm import SVC\n",
        "from sklearn.metrics import accuracy_score\n",
        "from sklearn.metrics import classification_report\n",
        "\n",
        "import pandas as pd\n",
        "import matplotlib.pyplot as plt\n",
        "from google.colab import files\n",
        "from sklearn import svm\n",
        "from sklearn.metrics import classification_report\n",
        "import time\n"
      ]
    },
    {
      "cell_type": "markdown",
      "metadata": {
        "id": "Ld5vaQc5nCjN"
      },
      "source": [
        "Data loading:"
      ]
    },
    {
      "cell_type": "code",
      "execution_count": null,
      "metadata": {
        "id": "nvJFnFMInAl8"
      },
      "outputs": [],
      "source": [
        "X, y = load_iris(return_X_y = True)\n",
        "X = X[:100,:]\n",
        "y = y[:100]\n",
        "X_train,X_test,y_train,y_test = train_test_split(X,y,train_size=0.5, random_state =1)"
      ]
    },
    {
      "cell_type": "markdown",
      "metadata": {
        "id": "E8yyz0vJoQRL"
      },
      "source": [
        "[link text](https://)Transforming the data in range [-1,1]"
      ]
    },
    {
      "cell_type": "code",
      "execution_count": null,
      "metadata": {
        "id": "SNgs61JmoZAQ"
      },
      "outputs": [],
      "source": [
        "scaler = MaxAbsScaler()\n",
        "X_train= scaler.fit_transform(X_train)\n",
        "X_test = scaler.transform(X_test)\n",
        "X_test = np.clip(X_test, 0, 1)"
      ]
    },
    {
      "cell_type": "markdown",
      "metadata": {
        "id": "l7oJRP0mG32y"
      },
      "source": [
        "Quantum Computing part\n"
      ]
    },
    {
      "cell_type": "code",
      "execution_count": null,
      "metadata": {
        "id": "3BF5Uhs0HSSP"
      },
      "outputs": [],
      "source": [
        "num_qubits = 4\n",
        "#because we have 4 independent features / data sets\n",
        "device = qml.device(\"default.qubit\", wires = num_qubits)"
      ]
    },
    {
      "cell_type": "markdown",
      "metadata": {
        "id": "uJeqTTETH8I4"
      },
      "source": [
        "Defining the circuit:"
      ]
    },
    {
      "cell_type": "code",
      "execution_count": null,
      "metadata": {
        "id": "agAmnu51H-ms"
      },
      "outputs": [],
      "source": [
        "@qml.qnode(device)\n",
        "def qkernel_circuit(a,b):\n",
        "  qml.AngleEmbedding(features=a, wires=range(num_qubits), rotation='X')\n",
        "  qml.adjoint(qml.AngleEmbedding(features=b, wires=range(num_qubits), rotation='X'))\n",
        "  return qml.probs(wires=range(num_qubits))"
      ]
    },
    {
      "cell_type": "markdown",
      "metadata": {
        "id": "Lb9PxYcG_2Uj"
      },
      "source": [
        "Function to compute Quantum Kernel Matrix:"
      ]
    },
    {
      "cell_type": "code",
      "execution_count": null,
      "metadata": {
        "id": "85JTuFx7ADrj"
      },
      "outputs": [],
      "source": [
        "def qkernel(A, B):\n",
        "  return np.array([[qkernel_circuit(a,b)[0] for a in A] for b in B])"
      ]
    },
    {
      "cell_type": "markdown",
      "metadata": {
        "id": "7K9rMEqRA3AC"
      },
      "source": [
        "Combining a quantum kernel with a classical Support Vector Machine (SVM) from scikit-learn."
      ]
    },
    {
      "cell_type": "code",
      "source": [
        "start_time = time.time()\n",
        "qsvm = SVC(kernel=qkernel)\n",
        "qsvm.fit(X_train, y_train)\n",
        "y_pred = qsvm.predict(X_test)\n",
        "qsvm_time = time.time() - start_time\n",
        "qsvm_accuracy = accuracy_score(y_test, y_pred)\n",
        "print(f\"QSVM Accuracy: {qsvm_accuracy:.2f}, Time: {qsvm_time:.2f}s\")\n"
      ],
      "metadata": {
        "colab": {
          "base_uri": "https://localhost:8080/"
        },
        "id": "lzLSSIu9-ZXV",
        "outputId": "b8e4e91c-0ef8-4b53-d81f-0dcbe203c7cd"
      },
      "execution_count": null,
      "outputs": [
        {
          "output_type": "stream",
          "name": "stdout",
          "text": [
            "QSVM Accuracy: 0.60, Time: 11.58s\n"
          ]
        }
      ]
    },
    {
      "cell_type": "markdown",
      "source": [
        "Classical implementation of the same data:"
      ],
      "metadata": {
        "id": "IYM5gF9s-x4D"
      }
    },
    {
      "cell_type": "code",
      "source": [
        "from sklearn.svm import SVC\n",
        "from sklearn.model_selection import train_test_split\n",
        "import time\n",
        "X_train, X_test, y_train, y_test = train_test_split(X, y, test_size=0.5, random_state=42)\n",
        "\n",
        "# Train SVM\n",
        "start_time = time.time()\n",
        "svm = SVC(kernel='linear')\n",
        "svm.fit(X_train, y_train)\n",
        "y_predc = svm.predict(X_test)\n",
        "svm_time = time.time() - start_time\n",
        "svm_accuracy = accuracy_score(y_test, y_predc)\n",
        "\n",
        "print(f\"SVM Accuracy: {svm_accuracy:.4f}, Time: {svm_time:.2f}s\")"
      ],
      "metadata": {
        "colab": {
          "base_uri": "https://localhost:8080/"
        },
        "id": "hMSuo6yBAcc4",
        "outputId": "184b9b33-4694-4fcc-ecf4-d24e89ff4124"
      },
      "execution_count": null,
      "outputs": [
        {
          "output_type": "stream",
          "name": "stdout",
          "text": [
            "SVM Accuracy: 1.0000, Time: 0.00s\n"
          ]
        }
      ]
    },
    {
      "cell_type": "markdown",
      "source": [
        "from sklearn.metrics import classification_report\n",
        "qsvm = SVC(kernel=qkernel)\n",
        "qsvm.fit(X_train, y_train)\n",
        "y_pred = qsvm.predict(X_test)\n",
        "print(classification_report(y_test, y_pred))"
      ],
      "metadata": {
        "id": "hi7l1SVlBdgc"
      }
    },
    {
      "cell_type": "markdown",
      "source": [
        "# Comparison of SVM and QSVM:\n",
        "\n",
        "\n"
      ],
      "metadata": {
        "id": "pl2vxbFnMx2o"
      }
    },
    {
      "cell_type": "code",
      "source": [
        "@qml.qnode(device)\n",
        "def qkernel_circuit(a,b):\n",
        "  qml.AngleEmbedding(features=a, wires=range(num_qubits), rotation='X')\n",
        "  qml.adjoint(qml.AngleEmbedding(features=b, wires=range(num_qubits), rotation='X'))\n",
        "  return qml.probs(wires=range(num_qubits))"
      ],
      "metadata": {
        "id": "7uCPn1robPEy"
      },
      "execution_count": null,
      "outputs": []
    },
    {
      "cell_type": "code",
      "source": [
        "def qkernel(A, B):\n",
        "  return np.array([[qkernel_circuit(a,b)[0] for a in A] for b in B])"
      ],
      "metadata": {
        "id": "C1nH1UuwbHx1"
      },
      "execution_count": null,
      "outputs": []
    },
    {
      "cell_type": "code",
      "source": [
        "import matplotlib.pyplot as plt\n",
        "import random\n",
        "from sklearn.svm import SVC\n",
        "\n",
        "sizes = [20,35,50,65,80,99]  # Subset sizes\n",
        "svm_accuracies, qsvm_accuracies = [], []\n",
        "svm_times, qsvm_times = [], []\n",
        "\n",
        "for size in sizes:\n",
        "    X_sub, X_tsub, y_sub, y_tsub = train_test_split(X, y, train_size=size, random_state=42)\n",
        "\n",
        "    # SVM\n",
        "    start = time.time()\n",
        "    svm = SVC(kernel='linear')\n",
        "    svm.fit(X_sub, y_sub)\n",
        "    y_sub_predc = svm.predict(X_tsub)\n",
        "    svm_times.append(time.time() - start)\n",
        "    svm_accuracies.append(accuracy_score(y_tsub, y_sub_predc))\n",
        "\n",
        "    # QSVM\n",
        "    if (len(X_sub)>50):\n",
        "       X_tsub_scaled = [random.choice(X) for _ in range(len(X_sub))]\n",
        "       y_tsub = [random.choice(y) for _ in range(len(y_sub))]\n",
        "    else:\n",
        "       X_tsub_scaled = [random.choice(X_tsub) for _ in range(len(X_sub))]\n",
        "       y_tsub = [random.choice(y_tsub) for _ in range(len(y_sub))]\n",
        "    start = time.time()\n",
        "    qsvm_sub = SVC(kernel=qkernel)\n",
        "    qsvm_sub.fit(X_sub, y_sub)\n",
        "    y_sub_pred = qsvm_sub.predict(X_tsub_scaled)\n",
        "    qsvm_times.append(time.time() - start)\n",
        "    qsvm_accuracies.append(accuracy_score(y_tsub, y_sub_pred))\n",
        "\n",
        "\n",
        "\n",
        "# Plot results\n",
        "plt.figure(figsize=(12, 4))\n",
        "plt.subplot(1, 2, 1)\n",
        "plt.plot(sizes, svm_accuracies, 'o-', label='SVM')\n",
        "plt.plot(sizes, qsvm_accuracies, 'o-', label='QSVM')\n",
        "plt.xlabel(\"Dataset Size\")\n",
        "plt.ylabel(\"Accuracy\")\n",
        "plt.legend()\n",
        "\n",
        "plt.subplot(1, 2, 2)\n",
        "plt.plot(sizes, svm_times, 'o-', label='SVM')\n",
        "plt.plot(sizes, qsvm_times, 'o-', label='QSVM')\n",
        "plt.xlabel(\"Dataset Size\")\n",
        "plt.ylabel(\"Runtime (s)\")\n",
        "plt.legend()\n",
        "plt.show()\n"
      ],
      "metadata": {
        "colab": {
          "base_uri": "https://localhost:8080/",
          "height": 388
        },
        "id": "v8x_LQeKM1tv",
        "outputId": "e001fee6-e491-4709-fbfd-99c34ab63859"
      },
      "execution_count": null,
      "outputs": [
        {
          "output_type": "display_data",
          "data": {
            "text/plain": [
              "<Figure size 1200x400 with 2 Axes>"
            ],
            "image/png": "[encoded data removed]"
          },
          "metadata": {}
        }
      ]
    },
    {
      "cell_type": "code",
      "source": [
        "print(svm_accuracies)"
      ],
      "metadata": {
        "colab": {
          "base_uri": "https://localhost:8080/"
        },
        "id": "Citjc0dRnYik",
        "outputId": "acc3a65d-2709-44c3-8764-6a8b946ae537"
      },
      "execution_count": null,
      "outputs": [
        {
          "output_type": "stream",
          "name": "stdout",
          "text": [
            "[1.0, 1.0, 1.0]\n"
          ]
        }
      ]
    },
    {
      "cell_type": "code",
      "source": [
        "print(qsvm_accuracies)"
      ],
      "metadata": {
        "colab": {
          "base_uri": "https://localhost:8080/"
        },
        "id": "Zf7cJaP_nsIH",
        "outputId": "88bcb079-e037-47a1-fa17-6a84ca8c1dbc"
      },
      "execution_count": null,
      "outputs": [
        {
          "output_type": "stream",
          "name": "stdout",
          "text": [
            "[0.4]\n"
          ]
        }
      ]
    }
  ],
  "metadata": {
    "colab": {
      "provenance": []
    },
    "kernelspec": {
      "display_name": "Python 3",
      "name": "python3"
    },
    "language_info": {
      "name": "python"
    }
  },
  "nbformat": 4,
  "nbformat_minor": 0
}